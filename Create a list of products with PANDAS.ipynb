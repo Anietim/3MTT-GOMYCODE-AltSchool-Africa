{
  "nbformat": 4,
  "nbformat_minor": 0,
  "metadata": {
    "colab": {
      "provenance": [],
      "authorship_tag": "ABX9TyMiJPLdrdxHyfgq6fQRmTfO",
      "include_colab_link": true
    },
    "kernelspec": {
      "name": "python3",
      "display_name": "Python 3"
    },
    "language_info": {
      "name": "python"
    }
  },
  "cells": [
    {
      "cell_type": "markdown",
      "metadata": {
        "id": "view-in-github",
        "colab_type": "text"
      },
      "source": [
        "<a href=\"https://colab.research.google.com/github/Anietim/3MTT-GOMYCODE-AltSchool-Africa/blob/main/Create%20a%20list%20of%20products%20with%20PANDAS.ipynb\" target=\"_parent\"><img src=\"https://colab.research.google.com/assets/colab-badge.svg\" alt=\"Open In Colab\"/></a>"
      ]
    },
    {
      "cell_type": "code",
      "execution_count": 4,
      "metadata": {
        "id": "nqPol3xOdAez"
      },
      "outputs": [],
      "source": [
        "import pandas as pd"
      ]
    },
    {
      "cell_type": "code",
      "source": [
        "# Convert Crete a list of product\n",
        "product_list = [ 'Apple', 'Banana', 'Carrot', 'Daikon']"
      ],
      "metadata": {
        "id": "Xijk7GP6d1Lz"
      },
      "execution_count": 6,
      "outputs": []
    },
    {
      "cell_type": "code",
      "source": [
        "# Convert the list into pandas series\n",
        "products_series = pd.Series(product_list)"
      ],
      "metadata": {
        "id": "dGaqWP1gcowb"
      },
      "execution_count": 10,
      "outputs": []
    },
    {
      "cell_type": "code",
      "source": [
        "# Print out the new Series\n",
        "print(products_series)\n",
        "print"
      ],
      "metadata": {
        "colab": {
          "base_uri": "https://localhost:8080/"
        },
        "id": "TH-esmejdEFv",
        "outputId": "0d2df74d-3b87-4155-d5e4-d1ee2029a068"
      },
      "execution_count": 39,
      "outputs": [
        {
          "output_type": "stream",
          "name": "stdout",
          "text": [
            "0     Apple\n",
            "1    Banana\n",
            "2    Carrot\n",
            "3    Daikon\n",
            "dtype: object\n"
          ]
        },
        {
          "output_type": "execute_result",
          "data": {
            "text/plain": [
              "<function print>"
            ]
          },
          "metadata": {},
          "execution_count": 39
        }
      ]
    },
    {
      "cell_type": "code",
      "source": [
        "# Create new Series with prices of the products\n",
        "prices = [2,1,3,4]"
      ],
      "metadata": {
        "id": "aOISYGG8eX59"
      },
      "execution_count": 31,
      "outputs": []
    },
    {
      "cell_type": "code",
      "source": [
        "print(prices_series)"
      ],
      "metadata": {
        "colab": {
          "base_uri": "https://localhost:8080/"
        },
        "id": "DF5I_y1xjex4",
        "outputId": "ba0f734e-0042-44e1-d424-ffbc46a47e0d"
      },
      "execution_count": 40,
      "outputs": [
        {
          "output_type": "stream",
          "name": "stdout",
          "text": [
            "0    2\n",
            "1    1\n",
            "2    3\n",
            "3    4\n",
            "dtype: int64\n"
          ]
        }
      ]
    },
    {
      "cell_type": "code",
      "source": [
        "# Convert prices list into pandas series\n",
        "price_series = pd.Series(prices)"
      ],
      "metadata": {
        "id": "nj55DsMnirrK"
      },
      "execution_count": 41,
      "outputs": []
    },
    {
      "cell_type": "code",
      "source": [
        "# Create a DataFrame by combining the two Series\n",
        "df = pd.DataFrame({'Product': products_series, 'Price': prices_series})"
      ],
      "metadata": {
        "id": "gMuUz-ZUga7n"
      },
      "execution_count": 48,
      "outputs": []
    },
    {
      "cell_type": "code",
      "source": [
        "# Print out the DataFrame\n",
        "print(\"DataFrame:\")\n",
        "print(df)"
      ],
      "metadata": {
        "colab": {
          "base_uri": "https://localhost:8080/"
        },
        "id": "X3ykmirqh6Rw",
        "outputId": "ba8aa98e-7067-482e-c4d1-f79da4ed4a74"
      },
      "execution_count": 50,
      "outputs": [
        {
          "output_type": "stream",
          "name": "stdout",
          "text": [
            "DataFrame:\n",
            "  Product  Price\n",
            "0   Apple      2\n",
            "1  Banana      1\n",
            "2  Carrot      3\n",
            "3  Daikon      4\n"
          ]
        }
      ]
    },
    {
      "cell_type": "code",
      "source": [
        "# Create a DataFrame using a dictionary of lists\n",
        "data_dict = {'Product': products_series, 'Price': prices_series}\n",
        "df_from_dict = pd.DataFrame(data_dict)"
      ],
      "metadata": {
        "id": "SvvffvrQiIxH"
      },
      "execution_count": 51,
      "outputs": []
    },
    {
      "cell_type": "code",
      "source": [
        "# Print out the DataFrame\n",
        "print(\"DataFrame from Dictionary:\")\n",
        "print(df_from_dict)\n",
        "print()"
      ],
      "metadata": {
        "colab": {
          "base_uri": "https://localhost:8080/"
        },
        "id": "eUFbTg3PqvZN",
        "outputId": "1c5c59d1-3c27-441f-8e8c-44693e1faaa1"
      },
      "execution_count": 52,
      "outputs": [
        {
          "output_type": "stream",
          "name": "stdout",
          "text": [
            "DataFrame from Dictionary:\n",
            "  Product  Price\n",
            "0   Apple      2\n",
            "1  Banana      1\n",
            "2  Carrot      3\n",
            "3  Daikon      4\n",
            "\n"
          ]
        }
      ]
    },
    {
      "cell_type": "code",
      "source": [
        "# Create a DataFrame using a list of dictionaries\n",
        "data_list = [{'Product': product, 'Price': price} for product, price in zip(products_series, prices_series)]\n",
        "df_from_list = pd.DataFrame(data_list)\n"
      ],
      "metadata": {
        "id": "CqTYMTCsrbDm"
      },
      "execution_count": 53,
      "outputs": []
    },
    {
      "cell_type": "code",
      "source": [
        "# Print out the DataFrame\n",
        "print(\"DataFrame from List of Dictionaries:\")\n",
        "print(df_from_list)"
      ],
      "metadata": {
        "colab": {
          "base_uri": "https://localhost:8080/"
        },
        "id": "46oqNFgBrhtC",
        "outputId": "d0834ffb-0375-42f6-e249-8aaea75eb6ad"
      },
      "execution_count": 55,
      "outputs": [
        {
          "output_type": "stream",
          "name": "stdout",
          "text": [
            "DataFrame from List of Dictionaries:\n",
            "  Product  Price\n",
            "0   Apple      2\n",
            "1  Banana      1\n",
            "2  Carrot      3\n",
            "3  Daikon      4\n"
          ]
        }
      ]
    }
  ]
}