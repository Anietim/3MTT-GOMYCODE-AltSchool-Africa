{
  "nbformat": 4,
  "nbformat_minor": 0,
  "metadata": {
    "colab": {
      "provenance": [],
      "authorship_tag": "ABX9TyMyRHDwNEt0UVLI3z65fqaU",
      "include_colab_link": true
    },
    "kernelspec": {
      "name": "python3",
      "display_name": "Python 3"
    },
    "language_info": {
      "name": "python"
    }
  },
  "cells": [
    {
      "cell_type": "markdown",
      "metadata": {
        "id": "view-in-github",
        "colab_type": "text"
      },
      "source": [
        "<a href=\"https://colab.research.google.com/github/Anietim/3MTT-GOMYCODE-AltSchool-Africa/blob/main/API_PROJECT.ipynb\" target=\"_parent\"><img src=\"https://colab.research.google.com/assets/colab-badge.svg\" alt=\"Open In Colab\"/></a>"
      ]
    },
    {
      "cell_type": "code",
      "execution_count": null,
      "metadata": {
        "id": "aE7dGzPO5Ce5"
      },
      "outputs": [],
      "source": [
        "import pandas as pd\n",
        "import requests\n",
        "import json\n",
        "import datetime as dt\n",
        "import numpy as np"
      ]
    },
    {
      "cell_type": "code",
      "source": [
        "url = \"http://api.citybik.es/v2/networks\""
      ],
      "metadata": {
        "id": "9yxYcOnn5yqq"
      },
      "execution_count": null,
      "outputs": []
    },
    {
      "cell_type": "code",
      "source": [
        "response = requests.get(url=url).json()\n",
        "response"
      ],
      "metadata": {
        "id": "l3zPuBCZ6Rbx"
      },
      "execution_count": null,
      "outputs": []
    },
    {
      "cell_type": "code",
      "source": [
        "#first company\n",
        "response['networks'][0]['company']"
      ],
      "metadata": {
        "colab": {
          "base_uri": "https://localhost:8080/"
        },
        "id": "o5pk7gHd8Pre",
        "outputId": "1fe389e6-f7d0-4b99-f7ff-dabd0b36c38a"
      },
      "execution_count": null,
      "outputs": [
        {
          "output_type": "execute_result",
          "data": {
            "text/plain": [
              "['ЗАО «СитиБайк»']"
            ]
          },
          "metadata": {},
          "execution_count": 8
        }
      ]
    },
    {
      "cell_type": "code",
      "source": [
        "# Country's city\n",
        "response['networks'][0]['location']['city']"
      ],
      "metadata": {
        "colab": {
          "base_uri": "https://localhost:8080/",
          "height": 36
        },
        "id": "tqnB3r_hBZjm",
        "outputId": "a16481a1-d192-49bc-90c6-a99be3248f72"
      },
      "execution_count": null,
      "outputs": [
        {
          "output_type": "execute_result",
          "data": {
            "text/plain": [
              "'Moscow'"
            ],
            "application/vnd.google.colaboratory.intrinsic+json": {
              "type": "string"
            }
          },
          "metadata": {},
          "execution_count": 9
        }
      ]
    },
    {
      "cell_type": "code",
      "source": [
        "# Country\n",
        "response['networks'][0]['location']['country']"
      ],
      "metadata": {
        "colab": {
          "base_uri": "https://localhost:8080/",
          "height": 36
        },
        "id": "kw-WsOKtCHUf",
        "outputId": "f6fa64d9-46dc-4dba-8f37-e6cb80cc0062"
      },
      "execution_count": null,
      "outputs": [
        {
          "output_type": "execute_result",
          "data": {
            "text/plain": [
              "'RU'"
            ],
            "application/vnd.google.colaboratory.intrinsic+json": {
              "type": "string"
            }
          },
          "metadata": {},
          "execution_count": 10
        }
      ]
    },
    {
      "cell_type": "code",
      "source": [
        "# Latitude\n",
        "response['networks'][0]['location']['latitude']"
      ],
      "metadata": {
        "colab": {
          "base_uri": "https://localhost:8080/"
        },
        "id": "Dau_-e_zDzln",
        "outputId": "179b95ee-805e-447d-bb5d-5d07d5e2249f"
      },
      "execution_count": null,
      "outputs": [
        {
          "output_type": "execute_result",
          "data": {
            "text/plain": [
              "55.75"
            ]
          },
          "metadata": {},
          "execution_count": 12
        }
      ]
    },
    {
      "cell_type": "code",
      "source": [
        "# Longitute\n",
        "response['networks'][0]['location']['longitude']"
      ],
      "metadata": {
        "colab": {
          "base_uri": "https://localhost:8080/"
        },
        "id": "6gJzAd4WERmE",
        "outputId": "65b89256-2846-4d93-9853-7d90fb6ca4f0"
      },
      "execution_count": null,
      "outputs": [
        {
          "output_type": "execute_result",
          "data": {
            "text/plain": [
              "37.616667"
            ]
          },
          "metadata": {},
          "execution_count": 13
        }
      ]
    },
    {
      "cell_type": "code",
      "source": [
        "# Company name\n",
        "response['networks'][0]['name']"
      ],
      "metadata": {
        "colab": {
          "base_uri": "https://localhost:8080/",
          "height": 36
        },
        "id": "b51cd11HEssB",
        "outputId": "31cb2e85-74ca-4088-c227-8851e220ab10"
      },
      "execution_count": null,
      "outputs": [
        {
          "output_type": "execute_result",
          "data": {
            "text/plain": [
              "'Velobike'"
            ],
            "application/vnd.google.colaboratory.intrinsic+json": {
              "type": "string"
            }
          },
          "metadata": {},
          "execution_count": 15
        }
      ]
    },
    {
      "cell_type": "code",
      "source": [
        "len(response['networks'])"
      ],
      "metadata": {
        "colab": {
          "base_uri": "https://localhost:8080/"
        },
        "id": "QGJIobLpEzhm",
        "outputId": "187d1702-22e9-400d-d90d-ed5dc7689eb2"
      },
      "execution_count": null,
      "outputs": [
        {
          "output_type": "execute_result",
          "data": {
            "text/plain": [
              "770"
            ]
          },
          "metadata": {},
          "execution_count": 16
        }
      ]
    },
    {
      "cell_type": "code",
      "source": [
        "networks = response['networks']"
      ],
      "metadata": {
        "id": "93WqVUpqFuTj"
      },
      "execution_count": null,
      "outputs": []
    },
    {
      "cell_type": "code",
      "source": [
        "df = pd.DataFrame()\n",
        "\n",
        "for network in networks:\n",
        "  print(network['name'])"
      ],
      "metadata": {
        "id": "n15JM4OaFZVT"
      },
      "execution_count": null,
      "outputs": []
    },
    {
      "cell_type": "code",
      "source": [
        "df=pd.DataFrame()\n",
        "\n",
        "for i in range(len(response['networks'])):\n",
        "  temp = pd.DataFrame(\n",
        "    {\n",
        "        'Name': [response['networks'][i]['name']],\n",
        "        'City': [response['networks'][i]['location']['city']],\n",
        "        'Country': [response['networks'][i]['location']['country']],\n",
        "        'Latitude': [response['networks'][i]['location']['latitude']],\n",
        "        'Longitude': [response['networks'][i]['location']['longitude']]\n",
        "    }\n",
        "  )\n",
        "\n",
        "  df = pd.concat([df, temp], ignore_index=True)"
      ],
      "metadata": {
        "id": "D8m5Hg9uHOQK"
      },
      "execution_count": null,
      "outputs": []
    },
    {
      "cell_type": "code",
      "source": [
        "df.head(50)"
      ],
      "metadata": {
        "colab": {
          "base_uri": "https://localhost:8080/",
          "height": 1000
        },
        "id": "0WXd9wcwPLEW",
        "outputId": "603051e0-1ffb-44d8-ec09-fe865fa0ada9"
      },
      "execution_count": null,
      "outputs": [
        {
          "output_type": "execute_result",
          "data": {
            "text/plain": [
              "                            Name                        City Country  \\\n",
              "0                       Velobike                      Moscow      RU   \n",
              "1                     Bicincittà                       Siena      IT   \n",
              "2                     Cyclopolis                    Maroussi      GR   \n",
              "3                     Cyclopolis                     Nafplio      GR   \n",
              "4                     Bicincittà  Parco dei Colli di Bergamo      IT   \n",
              "5                     Cyclopolis                   Aigialeia      GR   \n",
              "6                     Cyclopolis                    Marathon      GR   \n",
              "7                     Bicincittà                     Mantova      IT   \n",
              "8                     Cyclopolis                  Νea Smyrni      GR   \n",
              "9                     Cyclopolis             Μoschato-Tavros      GR   \n",
              "10                    Cyclopolis              Αrxaia Olympia      GR   \n",
              "11                    Cyclopolis                       Kιato      GR   \n",
              "12                    Bicincittà                    Assemini      IT   \n",
              "13                    Cyclopolis                      Rhodes      GR   \n",
              "14                    Cyclopolis                     Florina      GR   \n",
              "15                    Bicincittà                     Tortolì      IT   \n",
              "16                    Cyclopolis                      Limnos      GR   \n",
              "17                    Bicincittà                       Gaeta      IT   \n",
              "18                    Bicincittà                  Borgarello      IT   \n",
              "19                    Bicincittà   Pizzighettone e Formigara      IT   \n",
              "20                     TFI Bikes                        Cork      IE   \n",
              "21                     TFI Bikes                    Limerick      IE   \n",
              "22            Pun Pun Bike Share                     Bangkok      TH   \n",
              "23                     TFI Bikes                      Galway      IE   \n",
              "24                    Bicincittà           Montecatini Terme      IT   \n",
              "25  Bydgoski rower aglomeracyjny                   Bydgoszcz      PL   \n",
              "26              Santander Cycles                      London      GB   \n",
              "27                      WE-cycle                   Aspen, CO      US   \n",
              "28                    Bicincittà                     Carrara      IT   \n",
              "29             StadtRAD Hamburg'                     Hamburg      DE   \n",
              "30                 Tigullionbike    Sestri Levante - Lavagna      IT   \n",
              "31                        ARbike                      Arezzo      IT   \n",
              "32                      Velobike                      Astana      KZ   \n",
              "33              Vélib' Métropole                       Paris      FR   \n",
              "34                 Ascoli Piceno               Ascoli Piceno      IT   \n",
              "35                          BiGi                     Bergamo      IT   \n",
              "36                     Girocleta                      Girona      ES   \n",
              "37                          Alba                        Alba      IT   \n",
              "38                        BikeMi                      Milano      IT   \n",
              "39                        Biella                      Biella      IT   \n",
              "40                      Chivasso                    Chivasso      IT   \n",
              "41                          Bizi                    Zaragoza      ES   \n",
              "42                       EcoBici                Cd de México      MX   \n",
              "43                 Bici in Busto               Busto Arsizio      IT   \n",
              "44                Velo Antwerpen                   Antwerpen      BE   \n",
              "45                         Cuneo                       Cuneo      IT   \n",
              "46                 Malmö by bike                       Malmö      SE   \n",
              "47                       BiciMAD                      Madrid      ES   \n",
              "48                      EasyBike                Didymoteicho      GR   \n",
              "49             FRee Bike sharing                   Frosinone      IT   \n",
              "\n",
              "     Latitude   Longitude  \n",
              "0   55.750000   37.616667  \n",
              "1   43.318600   11.330600  \n",
              "2   38.056872   23.808330  \n",
              "3   37.563940   22.809340  \n",
              "4   45.722956    9.649230  \n",
              "5   38.251110   22.082157  \n",
              "6   38.085568   23.977639  \n",
              "7   45.158664   10.783719  \n",
              "8   37.938100   23.712600  \n",
              "9   37.953899   23.682475  \n",
              "10  37.641970   21.624727  \n",
              "11  38.013267   22.749382  \n",
              "12  39.289563    9.006602  \n",
              "13  36.450912   28.224697  \n",
              "14  40.801611   21.424522  \n",
              "15  39.926645    9.654954  \n",
              "16  39.874786   25.058672  \n",
              "17  41.209621   13.584335  \n",
              "18  45.239638    9.136150  \n",
              "19  45.186749    9.778088  \n",
              "20  51.893604   -8.494174  \n",
              "21  52.668746   -8.627809  \n",
              "22  13.750000  100.516667  \n",
              "23  53.278349   -9.050691  \n",
              "24  43.883628   10.764386  \n",
              "25  53.121930   18.000380  \n",
              "26  51.511214   -0.119824  \n",
              "27  39.194951 -106.837002  \n",
              "28  44.077318   10.097172  \n",
              "29  53.575320   10.015340  \n",
              "30  44.272554    9.395714  \n",
              "31  43.473333   11.870000  \n",
              "32  51.166667   71.416667  \n",
              "33  48.856614    2.352222  \n",
              "34  42.850000   13.583333  \n",
              "35  45.695000    9.670000  \n",
              "36  41.979400    2.821426  \n",
              "37  44.716667    8.083333  \n",
              "38  45.465454    9.186516  \n",
              "39  45.577500    8.051111  \n",
              "40  45.189765    7.888935  \n",
              "41  41.648791   -0.889581  \n",
              "42  19.432608  -99.133208  \n",
              "43  45.610555    8.852062  \n",
              "44  51.216667    4.400000  \n",
              "45  44.384238    7.541428  \n",
              "46  55.605000   13.003800  \n",
              "47  40.416800   -3.703800  \n",
              "48  41.350254   26.497296  \n",
              "49  41.645081   13.342123  "
            ],
            "text/html": [
              "\n",
              "  <div id=\"df-929cafe6-8552-4b48-96b5-622ca3bda1c7\" class=\"colab-df-container\">\n",
              "    <div>\n",
              "<style scoped>\n",
              "    .dataframe tbody tr th:only-of-type {\n",
              "        vertical-align: middle;\n",
              "    }\n",
              "\n",
              "    .dataframe tbody tr th {\n",
              "        vertical-align: top;\n",
              "    }\n",
              "\n",
              "    .dataframe thead th {\n",
              "        text-align: right;\n",
              "    }\n",
              "</style>\n",
              "<table border=\"1\" class=\"dataframe\">\n",
              "  <thead>\n",
              "    <tr style=\"text-align: right;\">\n",
              "      <th></th>\n",
              "      <th>Name</th>\n",
              "      <th>City</th>\n",
              "      <th>Country</th>\n",
              "      <th>Latitude</th>\n",
              "      <th>Longitude</th>\n",
              "    </tr>\n",
              "  </thead>\n",
              "  <tbody>\n",
              "    <tr>\n",
              "      <th>0</th>\n",
              "      <td>Velobike</td>\n",
              "      <td>Moscow</td>\n",
              "      <td>RU</td>\n",
              "      <td>55.750000</td>\n",
              "      <td>37.616667</td>\n",
              "    </tr>\n",
              "    <tr>\n",
              "      <th>1</th>\n",
              "      <td>Bicincittà</td>\n",
              "      <td>Siena</td>\n",
              "      <td>IT</td>\n",
              "      <td>43.318600</td>\n",
              "      <td>11.330600</td>\n",
              "    </tr>\n",
              "    <tr>\n",
              "      <th>2</th>\n",
              "      <td>Cyclopolis</td>\n",
              "      <td>Maroussi</td>\n",
              "      <td>GR</td>\n",
              "      <td>38.056872</td>\n",
              "      <td>23.808330</td>\n",
              "    </tr>\n",
              "    <tr>\n",
              "      <th>3</th>\n",
              "      <td>Cyclopolis</td>\n",
              "      <td>Nafplio</td>\n",
              "      <td>GR</td>\n",
              "      <td>37.563940</td>\n",
              "      <td>22.809340</td>\n",
              "    </tr>\n",
              "    <tr>\n",
              "      <th>4</th>\n",
              "      <td>Bicincittà</td>\n",
              "      <td>Parco dei Colli di Bergamo</td>\n",
              "      <td>IT</td>\n",
              "      <td>45.722956</td>\n",
              "      <td>9.649230</td>\n",
              "    </tr>\n",
              "    <tr>\n",
              "      <th>5</th>\n",
              "      <td>Cyclopolis</td>\n",
              "      <td>Aigialeia</td>\n",
              "      <td>GR</td>\n",
              "      <td>38.251110</td>\n",
              "      <td>22.082157</td>\n",
              "    </tr>\n",
              "    <tr>\n",
              "      <th>6</th>\n",
              "      <td>Cyclopolis</td>\n",
              "      <td>Marathon</td>\n",
              "      <td>GR</td>\n",
              "      <td>38.085568</td>\n",
              "      <td>23.977639</td>\n",
              "    </tr>\n",
              "    <tr>\n",
              "      <th>7</th>\n",
              "      <td>Bicincittà</td>\n",
              "      <td>Mantova</td>\n",
              "      <td>IT</td>\n",
              "      <td>45.158664</td>\n",
              "      <td>10.783719</td>\n",
              "    </tr>\n",
              "    <tr>\n",
              "      <th>8</th>\n",
              "      <td>Cyclopolis</td>\n",
              "      <td>Νea Smyrni</td>\n",
              "      <td>GR</td>\n",
              "      <td>37.938100</td>\n",
              "      <td>23.712600</td>\n",
              "    </tr>\n",
              "    <tr>\n",
              "      <th>9</th>\n",
              "      <td>Cyclopolis</td>\n",
              "      <td>Μoschato-Tavros</td>\n",
              "      <td>GR</td>\n",
              "      <td>37.953899</td>\n",
              "      <td>23.682475</td>\n",
              "    </tr>\n",
              "    <tr>\n",
              "      <th>10</th>\n",
              "      <td>Cyclopolis</td>\n",
              "      <td>Αrxaia Olympia</td>\n",
              "      <td>GR</td>\n",
              "      <td>37.641970</td>\n",
              "      <td>21.624727</td>\n",
              "    </tr>\n",
              "    <tr>\n",
              "      <th>11</th>\n",
              "      <td>Cyclopolis</td>\n",
              "      <td>Kιato</td>\n",
              "      <td>GR</td>\n",
              "      <td>38.013267</td>\n",
              "      <td>22.749382</td>\n",
              "    </tr>\n",
              "    <tr>\n",
              "      <th>12</th>\n",
              "      <td>Bicincittà</td>\n",
              "      <td>Assemini</td>\n",
              "      <td>IT</td>\n",
              "      <td>39.289563</td>\n",
              "      <td>9.006602</td>\n",
              "    </tr>\n",
              "    <tr>\n",
              "      <th>13</th>\n",
              "      <td>Cyclopolis</td>\n",
              "      <td>Rhodes</td>\n",
              "      <td>GR</td>\n",
              "      <td>36.450912</td>\n",
              "      <td>28.224697</td>\n",
              "    </tr>\n",
              "    <tr>\n",
              "      <th>14</th>\n",
              "      <td>Cyclopolis</td>\n",
              "      <td>Florina</td>\n",
              "      <td>GR</td>\n",
              "      <td>40.801611</td>\n",
              "      <td>21.424522</td>\n",
              "    </tr>\n",
              "    <tr>\n",
              "      <th>15</th>\n",
              "      <td>Bicincittà</td>\n",
              "      <td>Tortolì</td>\n",
              "      <td>IT</td>\n",
              "      <td>39.926645</td>\n",
              "      <td>9.654954</td>\n",
              "    </tr>\n",
              "    <tr>\n",
              "      <th>16</th>\n",
              "      <td>Cyclopolis</td>\n",
              "      <td>Limnos</td>\n",
              "      <td>GR</td>\n",
              "      <td>39.874786</td>\n",
              "      <td>25.058672</td>\n",
              "    </tr>\n",
              "    <tr>\n",
              "      <th>17</th>\n",
              "      <td>Bicincittà</td>\n",
              "      <td>Gaeta</td>\n",
              "      <td>IT</td>\n",
              "      <td>41.209621</td>\n",
              "      <td>13.584335</td>\n",
              "    </tr>\n",
              "    <tr>\n",
              "      <th>18</th>\n",
              "      <td>Bicincittà</td>\n",
              "      <td>Borgarello</td>\n",
              "      <td>IT</td>\n",
              "      <td>45.239638</td>\n",
              "      <td>9.136150</td>\n",
              "    </tr>\n",
              "    <tr>\n",
              "      <th>19</th>\n",
              "      <td>Bicincittà</td>\n",
              "      <td>Pizzighettone e Formigara</td>\n",
              "      <td>IT</td>\n",
              "      <td>45.186749</td>\n",
              "      <td>9.778088</td>\n",
              "    </tr>\n",
              "    <tr>\n",
              "      <th>20</th>\n",
              "      <td>TFI Bikes</td>\n",
              "      <td>Cork</td>\n",
              "      <td>IE</td>\n",
              "      <td>51.893604</td>\n",
              "      <td>-8.494174</td>\n",
              "    </tr>\n",
              "    <tr>\n",
              "      <th>21</th>\n",
              "      <td>TFI Bikes</td>\n",
              "      <td>Limerick</td>\n",
              "      <td>IE</td>\n",
              "      <td>52.668746</td>\n",
              "      <td>-8.627809</td>\n",
              "    </tr>\n",
              "    <tr>\n",
              "      <th>22</th>\n",
              "      <td>Pun Pun Bike Share</td>\n",
              "      <td>Bangkok</td>\n",
              "      <td>TH</td>\n",
              "      <td>13.750000</td>\n",
              "      <td>100.516667</td>\n",
              "    </tr>\n",
              "    <tr>\n",
              "      <th>23</th>\n",
              "      <td>TFI Bikes</td>\n",
              "      <td>Galway</td>\n",
              "      <td>IE</td>\n",
              "      <td>53.278349</td>\n",
              "      <td>-9.050691</td>\n",
              "    </tr>\n",
              "    <tr>\n",
              "      <th>24</th>\n",
              "      <td>Bicincittà</td>\n",
              "      <td>Montecatini Terme</td>\n",
              "      <td>IT</td>\n",
              "      <td>43.883628</td>\n",
              "      <td>10.764386</td>\n",
              "    </tr>\n",
              "    <tr>\n",
              "      <th>25</th>\n",
              "      <td>Bydgoski rower aglomeracyjny</td>\n",
              "      <td>Bydgoszcz</td>\n",
              "      <td>PL</td>\n",
              "      <td>53.121930</td>\n",
              "      <td>18.000380</td>\n",
              "    </tr>\n",
              "    <tr>\n",
              "      <th>26</th>\n",
              "      <td>Santander Cycles</td>\n",
              "      <td>London</td>\n",
              "      <td>GB</td>\n",
              "      <td>51.511214</td>\n",
              "      <td>-0.119824</td>\n",
              "    </tr>\n",
              "    <tr>\n",
              "      <th>27</th>\n",
              "      <td>WE-cycle</td>\n",
              "      <td>Aspen, CO</td>\n",
              "      <td>US</td>\n",
              "      <td>39.194951</td>\n",
              "      <td>-106.837002</td>\n",
              "    </tr>\n",
              "    <tr>\n",
              "      <th>28</th>\n",
              "      <td>Bicincittà</td>\n",
              "      <td>Carrara</td>\n",
              "      <td>IT</td>\n",
              "      <td>44.077318</td>\n",
              "      <td>10.097172</td>\n",
              "    </tr>\n",
              "    <tr>\n",
              "      <th>29</th>\n",
              "      <td>StadtRAD Hamburg'</td>\n",
              "      <td>Hamburg</td>\n",
              "      <td>DE</td>\n",
              "      <td>53.575320</td>\n",
              "      <td>10.015340</td>\n",
              "    </tr>\n",
              "    <tr>\n",
              "      <th>30</th>\n",
              "      <td>Tigullionbike</td>\n",
              "      <td>Sestri Levante - Lavagna</td>\n",
              "      <td>IT</td>\n",
              "      <td>44.272554</td>\n",
              "      <td>9.395714</td>\n",
              "    </tr>\n",
              "    <tr>\n",
              "      <th>31</th>\n",
              "      <td>ARbike</td>\n",
              "      <td>Arezzo</td>\n",
              "      <td>IT</td>\n",
              "      <td>43.473333</td>\n",
              "      <td>11.870000</td>\n",
              "    </tr>\n",
              "    <tr>\n",
              "      <th>32</th>\n",
              "      <td>Velobike</td>\n",
              "      <td>Astana</td>\n",
              "      <td>KZ</td>\n",
              "      <td>51.166667</td>\n",
              "      <td>71.416667</td>\n",
              "    </tr>\n",
              "    <tr>\n",
              "      <th>33</th>\n",
              "      <td>Vélib' Métropole</td>\n",
              "      <td>Paris</td>\n",
              "      <td>FR</td>\n",
              "      <td>48.856614</td>\n",
              "      <td>2.352222</td>\n",
              "    </tr>\n",
              "    <tr>\n",
              "      <th>34</th>\n",
              "      <td>Ascoli Piceno</td>\n",
              "      <td>Ascoli Piceno</td>\n",
              "      <td>IT</td>\n",
              "      <td>42.850000</td>\n",
              "      <td>13.583333</td>\n",
              "    </tr>\n",
              "    <tr>\n",
              "      <th>35</th>\n",
              "      <td>BiGi</td>\n",
              "      <td>Bergamo</td>\n",
              "      <td>IT</td>\n",
              "      <td>45.695000</td>\n",
              "      <td>9.670000</td>\n",
              "    </tr>\n",
              "    <tr>\n",
              "      <th>36</th>\n",
              "      <td>Girocleta</td>\n",
              "      <td>Girona</td>\n",
              "      <td>ES</td>\n",
              "      <td>41.979400</td>\n",
              "      <td>2.821426</td>\n",
              "    </tr>\n",
              "    <tr>\n",
              "      <th>37</th>\n",
              "      <td>Alba</td>\n",
              "      <td>Alba</td>\n",
              "      <td>IT</td>\n",
              "      <td>44.716667</td>\n",
              "      <td>8.083333</td>\n",
              "    </tr>\n",
              "    <tr>\n",
              "      <th>38</th>\n",
              "      <td>BikeMi</td>\n",
              "      <td>Milano</td>\n",
              "      <td>IT</td>\n",
              "      <td>45.465454</td>\n",
              "      <td>9.186516</td>\n",
              "    </tr>\n",
              "    <tr>\n",
              "      <th>39</th>\n",
              "      <td>Biella</td>\n",
              "      <td>Biella</td>\n",
              "      <td>IT</td>\n",
              "      <td>45.577500</td>\n",
              "      <td>8.051111</td>\n",
              "    </tr>\n",
              "    <tr>\n",
              "      <th>40</th>\n",
              "      <td>Chivasso</td>\n",
              "      <td>Chivasso</td>\n",
              "      <td>IT</td>\n",
              "      <td>45.189765</td>\n",
              "      <td>7.888935</td>\n",
              "    </tr>\n",
              "    <tr>\n",
              "      <th>41</th>\n",
              "      <td>Bizi</td>\n",
              "      <td>Zaragoza</td>\n",
              "      <td>ES</td>\n",
              "      <td>41.648791</td>\n",
              "      <td>-0.889581</td>\n",
              "    </tr>\n",
              "    <tr>\n",
              "      <th>42</th>\n",
              "      <td>EcoBici</td>\n",
              "      <td>Cd de México</td>\n",
              "      <td>MX</td>\n",
              "      <td>19.432608</td>\n",
              "      <td>-99.133208</td>\n",
              "    </tr>\n",
              "    <tr>\n",
              "      <th>43</th>\n",
              "      <td>Bici in Busto</td>\n",
              "      <td>Busto Arsizio</td>\n",
              "      <td>IT</td>\n",
              "      <td>45.610555</td>\n",
              "      <td>8.852062</td>\n",
              "    </tr>\n",
              "    <tr>\n",
              "      <th>44</th>\n",
              "      <td>Velo Antwerpen</td>\n",
              "      <td>Antwerpen</td>\n",
              "      <td>BE</td>\n",
              "      <td>51.216667</td>\n",
              "      <td>4.400000</td>\n",
              "    </tr>\n",
              "    <tr>\n",
              "      <th>45</th>\n",
              "      <td>Cuneo</td>\n",
              "      <td>Cuneo</td>\n",
              "      <td>IT</td>\n",
              "      <td>44.384238</td>\n",
              "      <td>7.541428</td>\n",
              "    </tr>\n",
              "    <tr>\n",
              "      <th>46</th>\n",
              "      <td>Malmö by bike</td>\n",
              "      <td>Malmö</td>\n",
              "      <td>SE</td>\n",
              "      <td>55.605000</td>\n",
              "      <td>13.003800</td>\n",
              "    </tr>\n",
              "    <tr>\n",
              "      <th>47</th>\n",
              "      <td>BiciMAD</td>\n",
              "      <td>Madrid</td>\n",
              "      <td>ES</td>\n",
              "      <td>40.416800</td>\n",
              "      <td>-3.703800</td>\n",
              "    </tr>\n",
              "    <tr>\n",
              "      <th>48</th>\n",
              "      <td>EasyBike</td>\n",
              "      <td>Didymoteicho</td>\n",
              "      <td>GR</td>\n",
              "      <td>41.350254</td>\n",
              "      <td>26.497296</td>\n",
              "    </tr>\n",
              "    <tr>\n",
              "      <th>49</th>\n",
              "      <td>FRee Bike sharing</td>\n",
              "      <td>Frosinone</td>\n",
              "      <td>IT</td>\n",
              "      <td>41.645081</td>\n",
              "      <td>13.342123</td>\n",
              "    </tr>\n",
              "  </tbody>\n",
              "</table>\n",
              "</div>\n",
              "    <div class=\"colab-df-buttons\">\n",
              "\n",
              "  <div class=\"colab-df-container\">\n",
              "    <button class=\"colab-df-convert\" onclick=\"convertToInteractive('df-929cafe6-8552-4b48-96b5-622ca3bda1c7')\"\n",
              "            title=\"Convert this dataframe to an interactive table.\"\n",
              "            style=\"display:none;\">\n",
              "\n",
              "  <svg xmlns=\"http://www.w3.org/2000/svg\" height=\"24px\" viewBox=\"0 -960 960 960\">\n",
              "    <path d=\"M120-120v-720h720v720H120Zm60-500h600v-160H180v160Zm220 220h160v-160H400v160Zm0 220h160v-160H400v160ZM180-400h160v-160H180v160Zm440 0h160v-160H620v160ZM180-180h160v-160H180v160Zm440 0h160v-160H620v160Z\"/>\n",
              "  </svg>\n",
              "    </button>\n",
              "\n",
              "  <style>\n",
              "    .colab-df-container {\n",
              "      display:flex;\n",
              "      gap: 12px;\n",
              "    }\n",
              "\n",
              "    .colab-df-convert {\n",
              "      background-color: #E8F0FE;\n",
              "      border: none;\n",
              "      border-radius: 50%;\n",
              "      cursor: pointer;\n",
              "      display: none;\n",
              "      fill: #1967D2;\n",
              "      height: 32px;\n",
              "      padding: 0 0 0 0;\n",
              "      width: 32px;\n",
              "    }\n",
              "\n",
              "    .colab-df-convert:hover {\n",
              "      background-color: #E2EBFA;\n",
              "      box-shadow: 0px 1px 2px rgba(60, 64, 67, 0.3), 0px 1px 3px 1px rgba(60, 64, 67, 0.15);\n",
              "      fill: #174EA6;\n",
              "    }\n",
              "\n",
              "    .colab-df-buttons div {\n",
              "      margin-bottom: 4px;\n",
              "    }\n",
              "\n",
              "    [theme=dark] .colab-df-convert {\n",
              "      background-color: #3B4455;\n",
              "      fill: #D2E3FC;\n",
              "    }\n",
              "\n",
              "    [theme=dark] .colab-df-convert:hover {\n",
              "      background-color: #434B5C;\n",
              "      box-shadow: 0px 1px 3px 1px rgba(0, 0, 0, 0.15);\n",
              "      filter: drop-shadow(0px 1px 2px rgba(0, 0, 0, 0.3));\n",
              "      fill: #FFFFFF;\n",
              "    }\n",
              "  </style>\n",
              "\n",
              "    <script>\n",
              "      const buttonEl =\n",
              "        document.querySelector('#df-929cafe6-8552-4b48-96b5-622ca3bda1c7 button.colab-df-convert');\n",
              "      buttonEl.style.display =\n",
              "        google.colab.kernel.accessAllowed ? 'block' : 'none';\n",
              "\n",
              "      async function convertToInteractive(key) {\n",
              "        const element = document.querySelector('#df-929cafe6-8552-4b48-96b5-622ca3bda1c7');\n",
              "        const dataTable =\n",
              "          await google.colab.kernel.invokeFunction('convertToInteractive',\n",
              "                                                    [key], {});\n",
              "        if (!dataTable) return;\n",
              "\n",
              "        const docLinkHtml = 'Like what you see? Visit the ' +\n",
              "          '<a target=\"_blank\" href=https://colab.research.google.com/notebooks/data_table.ipynb>data table notebook</a>'\n",
              "          + ' to learn more about interactive tables.';\n",
              "        element.innerHTML = '';\n",
              "        dataTable['output_type'] = 'display_data';\n",
              "        await google.colab.output.renderOutput(dataTable, element);\n",
              "        const docLink = document.createElement('div');\n",
              "        docLink.innerHTML = docLinkHtml;\n",
              "        element.appendChild(docLink);\n",
              "      }\n",
              "    </script>\n",
              "  </div>\n",
              "\n",
              "\n",
              "<div id=\"df-7cb31ce4-f3a1-49bb-86ee-ca0147ed9720\">\n",
              "  <button class=\"colab-df-quickchart\" onclick=\"quickchart('df-7cb31ce4-f3a1-49bb-86ee-ca0147ed9720')\"\n",
              "            title=\"Suggest charts\"\n",
              "            style=\"display:none;\">\n",
              "\n",
              "<svg xmlns=\"http://www.w3.org/2000/svg\" height=\"24px\"viewBox=\"0 0 24 24\"\n",
              "     width=\"24px\">\n",
              "    <g>\n",
              "        <path d=\"M19 3H5c-1.1 0-2 .9-2 2v14c0 1.1.9 2 2 2h14c1.1 0 2-.9 2-2V5c0-1.1-.9-2-2-2zM9 17H7v-7h2v7zm4 0h-2V7h2v10zm4 0h-2v-4h2v4z\"/>\n",
              "    </g>\n",
              "</svg>\n",
              "  </button>\n",
              "\n",
              "<style>\n",
              "  .colab-df-quickchart {\n",
              "      --bg-color: #E8F0FE;\n",
              "      --fill-color: #1967D2;\n",
              "      --hover-bg-color: #E2EBFA;\n",
              "      --hover-fill-color: #174EA6;\n",
              "      --disabled-fill-color: #AAA;\n",
              "      --disabled-bg-color: #DDD;\n",
              "  }\n",
              "\n",
              "  [theme=dark] .colab-df-quickchart {\n",
              "      --bg-color: #3B4455;\n",
              "      --fill-color: #D2E3FC;\n",
              "      --hover-bg-color: #434B5C;\n",
              "      --hover-fill-color: #FFFFFF;\n",
              "      --disabled-bg-color: #3B4455;\n",
              "      --disabled-fill-color: #666;\n",
              "  }\n",
              "\n",
              "  .colab-df-quickchart {\n",
              "    background-color: var(--bg-color);\n",
              "    border: none;\n",
              "    border-radius: 50%;\n",
              "    cursor: pointer;\n",
              "    display: none;\n",
              "    fill: var(--fill-color);\n",
              "    height: 32px;\n",
              "    padding: 0;\n",
              "    width: 32px;\n",
              "  }\n",
              "\n",
              "  .colab-df-quickchart:hover {\n",
              "    background-color: var(--hover-bg-color);\n",
              "    box-shadow: 0 1px 2px rgba(60, 64, 67, 0.3), 0 1px 3px 1px rgba(60, 64, 67, 0.15);\n",
              "    fill: var(--button-hover-fill-color);\n",
              "  }\n",
              "\n",
              "  .colab-df-quickchart-complete:disabled,\n",
              "  .colab-df-quickchart-complete:disabled:hover {\n",
              "    background-color: var(--disabled-bg-color);\n",
              "    fill: var(--disabled-fill-color);\n",
              "    box-shadow: none;\n",
              "  }\n",
              "\n",
              "  .colab-df-spinner {\n",
              "    border: 2px solid var(--fill-color);\n",
              "    border-color: transparent;\n",
              "    border-bottom-color: var(--fill-color);\n",
              "    animation:\n",
              "      spin 1s steps(1) infinite;\n",
              "  }\n",
              "\n",
              "  @keyframes spin {\n",
              "    0% {\n",
              "      border-color: transparent;\n",
              "      border-bottom-color: var(--fill-color);\n",
              "      border-left-color: var(--fill-color);\n",
              "    }\n",
              "    20% {\n",
              "      border-color: transparent;\n",
              "      border-left-color: var(--fill-color);\n",
              "      border-top-color: var(--fill-color);\n",
              "    }\n",
              "    30% {\n",
              "      border-color: transparent;\n",
              "      border-left-color: var(--fill-color);\n",
              "      border-top-color: var(--fill-color);\n",
              "      border-right-color: var(--fill-color);\n",
              "    }\n",
              "    40% {\n",
              "      border-color: transparent;\n",
              "      border-right-color: var(--fill-color);\n",
              "      border-top-color: var(--fill-color);\n",
              "    }\n",
              "    60% {\n",
              "      border-color: transparent;\n",
              "      border-right-color: var(--fill-color);\n",
              "    }\n",
              "    80% {\n",
              "      border-color: transparent;\n",
              "      border-right-color: var(--fill-color);\n",
              "      border-bottom-color: var(--fill-color);\n",
              "    }\n",
              "    90% {\n",
              "      border-color: transparent;\n",
              "      border-bottom-color: var(--fill-color);\n",
              "    }\n",
              "  }\n",
              "</style>\n",
              "\n",
              "  <script>\n",
              "    async function quickchart(key) {\n",
              "      const quickchartButtonEl =\n",
              "        document.querySelector('#' + key + ' button');\n",
              "      quickchartButtonEl.disabled = true;  // To prevent multiple clicks.\n",
              "      quickchartButtonEl.classList.add('colab-df-spinner');\n",
              "      try {\n",
              "        const charts = await google.colab.kernel.invokeFunction(\n",
              "            'suggestCharts', [key], {});\n",
              "      } catch (error) {\n",
              "        console.error('Error during call to suggestCharts:', error);\n",
              "      }\n",
              "      quickchartButtonEl.classList.remove('colab-df-spinner');\n",
              "      quickchartButtonEl.classList.add('colab-df-quickchart-complete');\n",
              "    }\n",
              "    (() => {\n",
              "      let quickchartButtonEl =\n",
              "        document.querySelector('#df-7cb31ce4-f3a1-49bb-86ee-ca0147ed9720 button');\n",
              "      quickchartButtonEl.style.display =\n",
              "        google.colab.kernel.accessAllowed ? 'block' : 'none';\n",
              "    })();\n",
              "  </script>\n",
              "</div>\n",
              "    </div>\n",
              "  </div>\n"
            ],
            "application/vnd.google.colaboratory.intrinsic+json": {
              "type": "dataframe",
              "variable_name": "df",
              "summary": "{\n  \"name\": \"df\",\n  \"rows\": 770,\n  \"fields\": [\n    {\n      \"column\": \"Name\",\n      \"properties\": {\n        \"dtype\": \"string\",\n        \"num_unique_values\": 528,\n        \"samples\": [\n          \"C.v\\u00e9lo\",\n          \"Neuch\\u00e2telroule\",\n          \"Santander Cycles\"\n        ],\n        \"semantic_type\": \"\",\n        \"description\": \"\"\n      }\n    },\n    {\n      \"column\": \"City\",\n      \"properties\": {\n        \"dtype\": \"string\",\n        \"num_unique_values\": 750,\n        \"samples\": [\n          \"Saint-Brieuc\",\n          \"Cardiff\",\n          \"Pisa\"\n        ],\n        \"semantic_type\": \"\",\n        \"description\": \"\"\n      }\n    },\n    {\n      \"column\": \"Country\",\n      \"properties\": {\n        \"dtype\": \"category\",\n        \"num_unique_values\": 57,\n        \"samples\": [\n          \"RU\",\n          \"PL\",\n          \"NL\"\n        ],\n        \"semantic_type\": \"\",\n        \"description\": \"\"\n      }\n    },\n    {\n      \"column\": \"Latitude\",\n      \"properties\": {\n        \"dtype\": \"number\",\n        \"std\": 14.194915455866722,\n        \"min\": -43.5341,\n        \"max\": 68.968,\n        \"num_unique_values\": 767,\n        \"samples\": [\n          24.1477358,\n          44.0058,\n          21.3043\n        ],\n        \"semantic_type\": \"\",\n        \"description\": \"\"\n      }\n    },\n    {\n      \"column\": \"Longitude\",\n      \"properties\": {\n        \"dtype\": \"number\",\n        \"std\": 51.54159255049894,\n        \"min\": -157.856,\n        \"max\": 174.763,\n        \"num_unique_values\": 769,\n        \"samples\": [\n          120.6736482,\n          15.2183,\n          -157.856\n        ],\n        \"semantic_type\": \"\",\n        \"description\": \"\"\n      }\n    }\n  ]\n}"
            }
          },
          "metadata": {},
          "execution_count": 48
        }
      ]
    },
    {
      "cell_type": "code",
      "source": [
        "df.info()"
      ],
      "metadata": {
        "colab": {
          "base_uri": "https://localhost:8080/"
        },
        "id": "LDEE9tKCQHPU",
        "outputId": "a1c7b0fa-32b7-4618-eb16-c80e9ae19d29"
      },
      "execution_count": null,
      "outputs": [
        {
          "output_type": "stream",
          "name": "stdout",
          "text": [
            "<class 'pandas.core.frame.DataFrame'>\n",
            "RangeIndex: 770 entries, 0 to 769\n",
            "Data columns (total 5 columns):\n",
            " #   Column     Non-Null Count  Dtype  \n",
            "---  ------     --------------  -----  \n",
            " 0   Name       770 non-null    object \n",
            " 1   City       770 non-null    object \n",
            " 2   Country    770 non-null    object \n",
            " 3   Latitude   770 non-null    float64\n",
            " 4   Longitude  770 non-null    float64\n",
            "dtypes: float64(2), object(3)\n",
            "memory usage: 30.2+ KB\n"
          ]
        }
      ]
    },
    {
      "cell_type": "code",
      "source": [
        "df.shape"
      ],
      "metadata": {
        "colab": {
          "base_uri": "https://localhost:8080/"
        },
        "id": "zoST4jd1QJG7",
        "outputId": "e33703fd-1ee5-4186-d692-4c3f0aca35de"
      },
      "execution_count": null,
      "outputs": [
        {
          "output_type": "execute_result",
          "data": {
            "text/plain": [
              "(770, 5)"
            ]
          },
          "metadata": {},
          "execution_count": 51
        }
      ]
    },
    {
      "cell_type": "code",
      "source": [
        "df.columns"
      ],
      "metadata": {
        "colab": {
          "base_uri": "https://localhost:8080/"
        },
        "id": "EZPVQwtSQQKM",
        "outputId": "72cdeeb7-5724-456f-b3a9-431dd163e4cb"
      },
      "execution_count": null,
      "outputs": [
        {
          "output_type": "execute_result",
          "data": {
            "text/plain": [
              "Index(['Name', 'City', 'Country', 'Latitude', 'Longitude'], dtype='object')"
            ]
          },
          "metadata": {},
          "execution_count": 52
        }
      ]
    },
    {
      "cell_type": "code",
      "source": [
        "df.index"
      ],
      "metadata": {
        "colab": {
          "base_uri": "https://localhost:8080/"
        },
        "id": "mZ98G76AQUcW",
        "outputId": "a7a68175-de57-4457-cca1-0cd7fedab51d"
      },
      "execution_count": null,
      "outputs": [
        {
          "output_type": "execute_result",
          "data": {
            "text/plain": [
              "RangeIndex(start=0, stop=770, step=1)"
            ]
          },
          "metadata": {},
          "execution_count": 57
        }
      ]
    },
    {
      "cell_type": "code",
      "source": [
        "data = {'Name': ['Velobike', 'Bicincittà', 'Cyclopolis', 'Cyclopolis', 'Bicincittà', 'Cyclopolis', 'Cyclopolis', 'Bicincittà', 'Cyclopolis', 'Cyclopolis', 'Cyclopolis', 'Cyclopolis', 'Bicincittà', 'Cyclopolis', 'Cyclopolis', 'Bicincittà', 'Cyclopolis', 'Bicincittà', 'Bicincittà', 'Bicincittà', 'TFI Bikes'],\n",
        "        'City': ['Moscow', 'Siena', 'Maroussi', 'Nafplio', 'Parco dei Colli di Bergamo', 'Aigialeia', 'Marathon', 'Mantova', 'Νea Smyrni', 'Μoschato-Tavros', 'Αrxaia Olympia', 'Kιato', 'Assemini', 'Rhodes', 'Florina', 'Tortolì', 'Limnos', 'Gaeta', 'Borgarello', 'Pizzighettone e Formigara', 'Cork'],\n",
        "        'Country': ['RU', 'IT', 'GR', 'GR', 'IT', 'GR', 'GR', 'IT', 'GR', 'GR', 'GR', 'GR', 'IT', 'GR', 'GR', 'IT', 'GR', 'IT', 'IT', 'IT', 'IE'],\n",
        "        'Latitude': [55.750000, 43.318600, 38.056872, 37.563940, 45.722956, 38.251110, 38.085568, 45.158664, 37.938100, 37.953899, 37.641970, 38.013267, 39.289563, 36.450912, 40.801611, 39.926645, 39.874786, 41.209621, 45.239638, 45.186749, 51.893604],\n",
        "        'Longitude': [37.616667, 11.330600, 23.808330, 22.809340, 9.649230, 22.082157, 23.977639, 10.783719, 23.712600, 23.682475, 21.624727, 22.749382, 9.006602, 28.224697, 21.424522, 9.654954, 25.058672, 13.584335, 9.136150, 9.778088, -8.494174]}"
      ],
      "metadata": {
        "id": "6fO8OZK5u1BA"
      },
      "execution_count": null,
      "outputs": []
    },
    {
      "cell_type": "code",
      "source": [
        "# Creating a DataFrame from the sample data\n",
        "df = pd.DataFrame(data)"
      ],
      "metadata": {
        "id": "_iTh5algvFvD"
      },
      "execution_count": null,
      "outputs": []
    },
    {
      "cell_type": "code",
      "source": [
        "# Plotting a scatter plot for geographical distribution\n",
        "plt.scatter(df['Longitude'], df['Latitude'])\n",
        "plt.xlabel('Longitude (degrees)')\n",
        "plt.ylabel('Latitude (degrees)')\n",
        "plt.title('Geographical Distribution')\n",
        "\n",
        "# Displaying the plot\n",
        "plt.show()"
      ],
      "metadata": {
        "colab": {
          "base_uri": "https://localhost:8080/",
          "height": 472
        },
        "id": "EzijSuIpvLUO",
        "outputId": "fbfc0539-dcec-4102-aa40-874b40e4d3df"
      },
      "execution_count": null,
      "outputs": [
        {
          "output_type": "display_data",
          "data": {
            "text/plain": [
              "<Figure size 640x480 with 1 Axes>"
            ],
            "image/png": "[encoded data removed]"
          },
          "metadata": {}
        }
      ]
    },
    {
      "cell_type": "code",
      "source": [
        "# Creating Pie chat"
      ],
      "metadata": {
        "id": "lt3pn9AKoFSQ"
      },
      "execution_count": null,
      "outputs": []
    },
    {
      "cell_type": "code",
      "source": [
        "# Sample data\n",
        "data = {'Name': ['Velobike', 'Bicincittà', 'Cyclopolis', 'Cyclopolis', 'Bicincittà', 'Cyclopolis', 'Cyclopolis', 'Bicincittà', 'Cyclopolis', 'Cyclopolis', 'Cyclopolis', 'Cyclopolis', 'Bicincittà', 'Cyclopolis', 'Cyclopolis', 'Bicincittà', 'Cyclopolis', 'Bicincittà', 'Bicincittà', 'Bicincittà', 'TFI Bikes'],\n",
        "        'Country': ['RU', 'IT', 'GR', 'GR', 'IT', 'GR', 'GR', 'IT', 'GR', 'GR', 'GR', 'GR', 'IT', 'GR', 'GR', 'IT', 'GR', 'IT', 'IT', 'IT', 'IE']}"
      ],
      "metadata": {
        "id": "Jgz7yv3n1h-j"
      },
      "execution_count": null,
      "outputs": []
    },
    {
      "cell_type": "code",
      "source": [
        "# Creating a DataFrame from the sample data\n",
        "df = pd.DataFrame(data)"
      ],
      "metadata": {
        "id": "lltZ14dJ1tuk"
      },
      "execution_count": null,
      "outputs": []
    },
    {
      "cell_type": "code",
      "source": [
        "# Calculating the number of bike-sharing services per country\n",
        "country_counts = df['Country'].value_counts()"
      ],
      "metadata": {
        "id": "AeP-kGiH1268"
      },
      "execution_count": null,
      "outputs": []
    },
    {
      "cell_type": "code",
      "source": [
        "# Plotting a pie chart\n",
        "plt.figure(figsize=(8, 6))\n",
        "plt.pie(country_counts, labels=country_counts.index, autopct='%1.1f%%', startangle=140)\n",
        "plt.title('Distribution of Bike-Sharing Services by Country')\n",
        "plt.axis('equal')  # Equal aspect ratio ensures that pie is drawn as a circle.\n",
        "\n",
        "# Displaying the plot\n",
        "plt.show()"
      ],
      "metadata": {
        "colab": {
          "base_uri": "https://localhost:8080/",
          "height": 521
        },
        "id": "QiitOm1f2D9z",
        "outputId": "0fe538e7-b710-4dee-9e47-19089a185e04"
      },
      "execution_count": null,
      "outputs": [
        {
          "output_type": "display_data",
          "data": {
            "text/plain": [
              "<Figure size 800x600 with 1 Axes>"
            ],
            "image/png": "[encoded data removed]"
          },
          "metadata": {}
        }
      ]
    },
    {
      "cell_type": "code",
      "source": [
        "import pandas as pd\n",
        "import matplotlib.pyplot as plt"
      ],
      "metadata": {
        "id": "gASdVcN_L-vl"
      },
      "execution_count": null,
      "outputs": []
    },
    {
      "cell_type": "code",
      "source": [
        "data = {'Name': ['Velobike', 'Bicincittà', 'Cyclopolis', 'Cyclopolis', 'Bicincittà', 'Cyclopolis', 'Cyclopolis', 'Bicincittà', 'Cyclopolis', 'Cyclopolis', 'Cyclopolis', 'Cyclopolis', 'Bicincittà', 'Cyclopolis', 'Cyclopolis', 'Bicincittà', 'Cyclopolis', 'Bicincittà', 'Bicincittà', 'Bicincittà', 'TFI Bikes'],\n",
        "        'Country': ['RU', 'IT', 'GR', 'GR', 'IT', 'GR', 'GR', 'IT', 'GR', 'GR', 'GR', 'GR', 'IT', 'GR', 'GR', 'IT', 'GR', 'IT', 'IT', 'IT', 'IE']}"
      ],
      "metadata": {
        "id": "Pb-2i9pUJu7x"
      },
      "execution_count": null,
      "outputs": []
    },
    {
      "cell_type": "code",
      "source": [
        "# Creating a DataFrame from the sample data\n",
        "df = pd.DataFrame(data)"
      ],
      "metadata": {
        "id": "TRa846DRKrA9"
      },
      "execution_count": null,
      "outputs": []
    },
    {
      "cell_type": "code",
      "source": [
        "# Calculating the number of bike-sharing services per country\n",
        "country_counts = df['Country'].value_counts()"
      ],
      "metadata": {
        "id": "B1PCeyriKqTU"
      },
      "execution_count": null,
      "outputs": []
    },
    {
      "cell_type": "code",
      "source": [
        "# Plotting a bar chart\n",
        "plt.figure(figsize=(10, 6))\n",
        "country_counts.plot(kind='bar', color='skyblue')\n",
        "plt.xlabel('Country')\n",
        "plt.ylabel('Number of Bike-Sharing Services')\n",
        "plt.title('Number of Bike-Sharing Services by Country')\n",
        "\n",
        "# Rotating the x-axis labels for better readability\n",
        "plt.xticks(rotation=45)"
      ],
      "metadata": {
        "colab": {
          "base_uri": "https://localhost:8080/",
          "height": 610
        },
        "id": "lpmFSzIWLBYj",
        "outputId": "45082161-1047-44af-f5ba-7253bd4ce6f9"
      },
      "execution_count": null,
      "outputs": [
        {
          "output_type": "execute_result",
          "data": {
            "text/plain": [
              "(array([0, 1, 2, 3]),\n",
              " [Text(0, 0, 'GR'), Text(1, 0, 'IT'), Text(2, 0, 'RU'), Text(3, 0, 'IE')])"
            ]
          },
          "metadata": {},
          "execution_count": 15
        },
        {
          "output_type": "display_data",
          "data": {
            "text/plain": [
              "<Figure size 1000x600 with 1 Axes>"
            ],
            "image/png": "[encoded data removed]"
          },
          "metadata": {}
        }
      ]
    },
    {
      "cell_type": "code",
      "source": [],
      "metadata": {
        "id": "6uMcJAWcLAu4"
      },
      "execution_count": null,
      "outputs": []
    },
    {
      "cell_type": "code",
      "source": [],
      "metadata": {
        "id": "Tr_Hd_S_Kp8g"
      },
      "execution_count": null,
      "outputs": []
    }
  ]
}