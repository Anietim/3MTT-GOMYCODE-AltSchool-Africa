{
  "cells": [
    {
      "cell_type": "markdown",
      "metadata": {
        "id": "view-in-github",
        "colab_type": "text"
      },
      "source": [
        "<a href=\"https://colab.research.google.com/github/Anietim/3MTT-GOMYCODE-AltSchool-Africa/blob/main/practice_(Gomycode)pynb.ipynb\" target=\"_parent\"><img src=\"https://colab.research.google.com/assets/colab-badge.svg\" alt=\"Open In Colab\"/></a>"
      ]
    },
    {
      "cell_type": "markdown",
      "metadata": {
        "id": "BYAnFE7QysPB"
      },
      "source": [
        "#**CALCULATION**"
      ]
    },
    {
      "cell_type": "code",
      "source": [
        "# IMPORT MATH"
      ],
      "metadata": {
        "id": "9w0isTk1AdkN"
      },
      "execution_count": null,
      "outputs": []
    },
    {
      "cell_type": "code",
      "execution_count": null,
      "metadata": {
        "colab": {
          "background_save": true
        },
        "id": "qK_p3cKN-Hu4"
      },
      "outputs": [],
      "source": [
        "print(\"select an opeartion to perform:\")\n",
        "print(\"1. ADDITION\")\n",
        "print(\"2. SUBTRACT\")\n",
        "print(\"3. MULTIPLICATION\")\n",
        "print(\"4. DIVIDE\")\n",
        "print(\"5. SQUARE ROOT\")\n",
        "print(\"6. RAISE TO POWER\")\n",
        "\n",
        "\n",
        "operation = input ()\n",
        "\n",
        "if operation == \"1\": # PERFORM ADDITION\n",
        "  num1 = input(\"Enter first number\")\n",
        "  num2 = input(\"Enter second number\")\n",
        "  print(\"The sum is \" + str (int(num1) + int(num2)))\n",
        "elif operation == \"2\": # PERFORM SUBTRACTION\n",
        "  num1 = input(\"Enter first number\")\n",
        "  num2 = input(\"Enter second number\")\n",
        "  print(\"The defference is \" + str (int(num1) + int(num2)))\n",
        "elif operation == \"3\": # PERFORM MULTIPLICATION\n",
        "  num1 = input(\"Enter first number\")\n",
        "  num2 = input(\"Enter second number\")\n",
        "  print(\"The product is \" + str (int(num1) + int(num2)))\n",
        "elif operation == \"4\": # PERFORM DIVITION\n",
        "  num1 = input(\"Enter first number\")\n",
        "  num2 = input(\"Enter second number\")\n",
        "  print(\"The result is \" + str (int(num1) + int(num2)))\n",
        "else:\n",
        "  print(\"Invalid Entry\")\n"
      ]
    },
    {
      "cell_type": "code",
      "execution_count": null,
      "metadata": {
        "id": "fA4lH1It-HzB"
      },
      "outputs": [],
      "source": []
    },
    {
      "cell_type": "code",
      "execution_count": null,
      "metadata": {
        "id": "Ee6_83s9-H17"
      },
      "outputs": [],
      "source": []
    },
    {
      "cell_type": "code",
      "execution_count": null,
      "metadata": {
        "id": "9OW0UQeV-H4e"
      },
      "outputs": [],
      "source": []
    },
    {
      "cell_type": "markdown",
      "source": [
        "**###ASSIGNMENT**\n",
        "\n",
        "Create a tuple called \"person\" that contains a string \"John\" as a name, 25 as a age and \"male\" as a gender.\n",
        "Print the name of the person\n",
        "Try to change the age of the person and see what happens.\n"
      ],
      "metadata": {
        "id": "-mPVcvIgQYVz"
      }
    },
    {
      "cell_type": "code",
      "execution_count": null,
      "metadata": {
        "id": "8mPWAGkC-IgJ",
        "colab": {
          "base_uri": "https://localhost:8080/"
        },
        "outputId": "aaeb61f7-6a37-485e-a293-dfe45b5724af"
      },
      "outputs": [
        {
          "output_type": "stream",
          "name": "stdout",
          "text": [
            "name of the person: john\n"
          ]
        }
      ],
      "source": [
        "#create a tuple\n",
        "person=(\"john\", 25, \"male\")\n",
        "print(\"name of the person:\", person [0]) #\n"
      ]
    },
    {
      "cell_type": "code",
      "execution_count": null,
      "metadata": {
        "id": "p-GgwCEw-IjQ",
        "colab": {
          "base_uri": "https://localhost:8080/"
        },
        "outputId": "738c36ca-8b07-4253-c7f8-017d648453d3"
      },
      "outputs": [
        {
          "output_type": "stream",
          "name": "stdout",
          "text": [
            "age of the person 25\n"
          ]
        }
      ],
      "source": [
        "print(\"age of the person\", person [1])\n"
      ]
    },
    {
      "cell_type": "code",
      "source": [
        "print(\"sex of the person\", person [2])"
      ],
      "metadata": {
        "colab": {
          "base_uri": "https://localhost:8080/"
        },
        "id": "SyiQ1ph7T-ac",
        "outputId": "824a8b47-6dd5-4557-a52a-9a36d20cca58"
      },
      "execution_count": null,
      "outputs": [
        {
          "output_type": "stream",
          "name": "stdout",
          "text": [
            "sex of the person male\n"
          ]
        }
      ]
    },
    {
      "cell_type": "markdown",
      "source": [
        "Create a list called \"grocery_list\" that contains \"milk\", \"bread\", \"eggs\", \"bananas\"Print the first item in the grocery_list.\n",
        "Add \"chocolate\" to the grocery_list\n",
        "Remove \"milk\" from the grocery_list\n"
      ],
      "metadata": {
        "id": "40_OjuTvWa1k"
      }
    },
    {
      "cell_type": "code",
      "source": [
        "#Create a list called \"grocery_list\"\n",
        "grocery_list = [\"milk\", \"bread\", \"eggs\", \"bananas\"]\n",
        "print(\"first item in the grocery_list:\", grocery_list[0])"
      ],
      "metadata": {
        "colab": {
          "base_uri": "https://localhost:8080/"
        },
        "id": "1w4kzTA4T-oz",
        "outputId": "c13c912c-be7e-46de-ce1b-2ae1239604c8"
      },
      "execution_count": null,
      "outputs": [
        {
          "output_type": "stream",
          "name": "stdout",
          "text": [
            "first item in the grocery_list: milk\n"
          ]
        }
      ]
    },
    {
      "cell_type": "code",
      "source": [
        "grocery_list = [\"milk\", \"bread\", \"eggs\", \"bananas\"]\n",
        "print(\"third item in the grocery_list:\", grocery_list[2])"
      ],
      "metadata": {
        "colab": {
          "base_uri": "https://localhost:8080/"
        },
        "id": "rSnwVn6xpVHw",
        "outputId": "49e86c3b-3936-4352-a822-f97412a538d7"
      },
      "execution_count": null,
      "outputs": [
        {
          "output_type": "stream",
          "name": "stdout",
          "text": [
            "third item in the grocery_list: eggs\n"
          ]
        }
      ]
    },
    {
      "cell_type": "code",
      "source": [
        "#Add \"chocolate\" to the grocery_list\n",
        "grocery_list.append(\"chocolate\")"
      ],
      "metadata": {
        "id": "fEXHIRy-pVS0"
      },
      "execution_count": null,
      "outputs": []
    },
    {
      "cell_type": "code",
      "source": [
        "#Remove \"milk\" from the grocery_list\n",
        "grocery_list.remove(\"milk\")"
      ],
      "metadata": {
        "id": "z2y5Jn_4zMa6"
      },
      "execution_count": null,
      "outputs": []
    },
    {
      "cell_type": "code",
      "source": [
        "#print the updated grocery_list\n",
        "print(\"updated grocery list:\", grocery_list)"
      ],
      "metadata": {
        "colab": {
          "base_uri": "https://localhost:8080/"
        },
        "id": "F9pgG_nxzMgz",
        "outputId": "ebea8b2e-ef57-40d8-c3df-485615a48ec0"
      },
      "execution_count": null,
      "outputs": [
        {
          "output_type": "stream",
          "name": "stdout",
          "text": [
            "updated grocery list: ['bread', 'eggs', 'bananas', 'chocolate']\n"
          ]
        }
      ]
    },
    {
      "cell_type": "code",
      "source": [],
      "metadata": {
        "id": "X9e5l9nuzMlH"
      },
      "execution_count": null,
      "outputs": []
    },
    {
      "cell_type": "markdown",
      "source": [
        "Create a set called \"unique_numbers\" that contains the integers 1, 2, 3, 4, 5\n",
        "Add number 6 to the unique_numbers\n",
        "Print the length of the unique_numbers\n",
        "Try to add a duplicate number and see what happens"
      ],
      "metadata": {
        "id": "IwnsLA646SGd"
      }
    },
    {
      "cell_type": "code",
      "source": [
        "#Create a set called \"unique_unmbers\"\n",
        "unique_unmbers = {1, 2, 3, 4, 5}\n",
        "print(\"unique_numbers\", {1, 2, 3, 4, 5})"
      ],
      "metadata": {
        "colab": {
          "base_uri": "https://localhost:8080/"
        },
        "id": "8aqOc0kw6EWb",
        "outputId": "898e3285-0c72-4cb2-dd22-625277ad5fb4"
      },
      "execution_count": null,
      "outputs": [
        {
          "output_type": "stream",
          "name": "stdout",
          "text": [
            "unique_numbers {1, 2, 3, 4, 5}\n"
          ]
        }
      ]
    },
    {
      "cell_type": "code",
      "source": [
        "#Add number 6 to the unique_numbers\n",
        "unique_unmbers.add(6)"
      ],
      "metadata": {
        "id": "cA8G0hs66Ef8"
      },
      "execution_count": null,
      "outputs": []
    },
    {
      "cell_type": "code",
      "source": [
        "#Print the length of the unique_numbers\n",
        "print(\"Length of unique_numbers:\", len(unique_unmbers))"
      ],
      "metadata": {
        "colab": {
          "base_uri": "https://localhost:8080/"
        },
        "id": "fmhf_2Ab86Qq",
        "outputId": "a9fa0bfc-ae99-4233-ff7c-5d6fe715c62b"
      },
      "execution_count": null,
      "outputs": [
        {
          "output_type": "stream",
          "name": "stdout",
          "text": [
            "Length of unique_numbers: 6\n"
          ]
        }
      ]
    },
    {
      "cell_type": "code",
      "source": [
        "#Add a duplicate number\n",
        "unique_unmbers.add(5) # Adding a duplicate number"
      ],
      "metadata": {
        "id": "h-J1PGiS86Vx"
      },
      "execution_count": null,
      "outputs": []
    },
    {
      "cell_type": "code",
      "source": [
        "#Print the updated unique_numbers\n",
        "print(\"updated unique_numbers:\", unique_unmbers)"
      ],
      "metadata": {
        "colab": {
          "base_uri": "https://localhost:8080/"
        },
        "id": "xvn3pVta9qTT",
        "outputId": "8d7e29ac-b5fc-4c1b-a1c3-8221636149cb"
      },
      "execution_count": null,
      "outputs": [
        {
          "output_type": "stream",
          "name": "stdout",
          "text": [
            "updated unique_numbers: {1, 2, 3, 4, 5, 6}\n"
          ]
        }
      ]
    },
    {
      "cell_type": "code",
      "source": [],
      "metadata": {
        "id": "662dqYX99qYi"
      },
      "execution_count": null,
      "outputs": []
    },
    {
      "cell_type": "markdown",
      "source": [
        "Create a dictionary called \"employee\" that contains the keys \"name\", \"age\", \"position\" and \"salary\", with their corresponding values \"John\", 25, \"Developer\" and 3000 respectively.\n",
        "Print the employee's name\n",
        "Change the employee's position to \"Manager\"\n",
        "Add a new key \"email\" with the value \"john@example.com\" to the employee dictionary"
      ],
      "metadata": {
        "id": "Y22skuCUBOo8"
      }
    },
    {
      "cell_type": "code",
      "source": [
        "#Create a dictionary called \"employee\"\n",
        "employee = {\n",
        "    \"name\": \"john\",\n",
        "    \"age\": \"25\",\n",
        "    \"position\": \"Developer\",\n",
        "    \"salary\": 3000\n",
        "}"
      ],
      "metadata": {
        "id": "W76-9Or06Eni"
      },
      "execution_count": null,
      "outputs": []
    },
    {
      "cell_type": "code",
      "source": [
        "#Print the employee's name\n",
        "print(\"employee's name:\", employee[\"name\"])"
      ],
      "metadata": {
        "colab": {
          "base_uri": "https://localhost:8080/"
        },
        "id": "N6BuD7BABewW",
        "outputId": "575d3c72-0bda-4189-8fdd-85de137b7224"
      },
      "execution_count": null,
      "outputs": [
        {
          "output_type": "stream",
          "name": "stdout",
          "text": [
            "employee's name: john\n"
          ]
        }
      ]
    },
    {
      "cell_type": "code",
      "source": [
        "#change the employee's position to \"manager\"\n",
        "employee[\"position\"] = \"manager\""
      ],
      "metadata": {
        "id": "c8oapHYCBe_l"
      },
      "execution_count": null,
      "outputs": []
    },
    {
      "cell_type": "code",
      "source": [
        "#Add a new key \"email\" with the value \"john@example.com\" to the employee dictionary\n",
        "employee[\"email\"] = \"john@example.com\""
      ],
      "metadata": {
        "id": "T5WPburaBfEa"
      },
      "execution_count": null,
      "outputs": []
    },
    {
      "cell_type": "code",
      "source": [
        "#Print the updated employee dictionary\n",
        "print(\"updated employee dictionary:\", employee)"
      ],
      "metadata": {
        "colab": {
          "base_uri": "https://localhost:8080/"
        },
        "id": "FIsI0xZlBfJJ",
        "outputId": "b919e2c1-203e-4c54-8216-dcfd4b2f27e3"
      },
      "execution_count": null,
      "outputs": [
        {
          "output_type": "stream",
          "name": "stdout",
          "text": [
            "updated employee dictionary: {'name': 'john', 'age': '25', 'position': 'manager', 'salary': 3000, 'email': 'john@example.com'}\n"
          ]
        }
      ]
    },
    {
      "cell_type": "code",
      "source": [],
      "metadata": {
        "id": "0S8Fm-Unmrfq"
      },
      "execution_count": null,
      "outputs": []
    },
    {
      "cell_type": "code",
      "source": [],
      "metadata": {
        "id": "mcveTQ0dmrsG"
      },
      "execution_count": null,
      "outputs": []
    },
    {
      "cell_type": "markdown",
      "source": [
        "#Explore our planetary system with various data structures\n"
      ],
      "metadata": {
        "id": "4yQnpGqCmuhM"
      }
    },
    {
      "cell_type": "code",
      "source": [
        "#List"
      ],
      "metadata": {
        "id": "ZQWAASlABfNW"
      },
      "execution_count": null,
      "outputs": []
    },
    {
      "cell_type": "code",
      "source": [
        "#List of planets in the solar system\n",
        "planets = [\"Mercury\", \"Venus\", \"Earth\", \"Mars\", \"Jupiter\", \"Saturn\", \"Uranus\", \"Neptune\"]"
      ],
      "metadata": {
        "id": "5bAc6AGHnnVr"
      },
      "execution_count": null,
      "outputs": []
    },
    {
      "cell_type": "code",
      "source": [
        "#List of distances of planets from the sun(in million of kilometers)\n",
        "distances_from_sun = [57.9, 108.2, 149.6, 227.9, 778.6, 1433.5, 2872.5, 4495.1]"
      ],
      "metadata": {
        "id": "NzKfXoWwnnas"
      },
      "execution_count": null,
      "outputs": []
    },
    {
      "cell_type": "code",
      "source": [
        "#List of diameters of planets (in thousands of kilometers)\n",
        "diameters = [4.88, 12.1, 12.7, 6.79, 139.8, 116.5, 50.7, 49.2]"
      ],
      "metadata": {
        "id": "eGkZpDDvnng9"
      },
      "execution_count": null,
      "outputs": []
    },
    {
      "cell_type": "code",
      "source": [
        "#print information about planet\n",
        "for i in range(len(planets)):\n",
        "  print(\"planet:\", planets[i])\n",
        "  print(\"distance from the sun (million km):\", distances_from_sun[i])\n",
        "  print (\"Diameter (thousand km)\", diameters[i])\n",
        "  print()"
      ],
      "metadata": {
        "colab": {
          "base_uri": "https://localhost:8080/"
        },
        "id": "iYV6C4TRnnm0",
        "outputId": "448ba075-e892-49d8-cee3-c97d8390bf47"
      },
      "execution_count": null,
      "outputs": [
        {
          "output_type": "stream",
          "name": "stdout",
          "text": [
            "planet: Mercury\n",
            "distance from the sun (million km): 57.9\n",
            "Diameter (thousand km) 4.88\n",
            "\n",
            "planet: Venus\n",
            "distance from the sun (million km): 108.2\n",
            "Diameter (thousand km) 12.1\n",
            "\n",
            "planet: Earth\n",
            "distance from the sun (million km): 149.6\n",
            "Diameter (thousand km) 12.7\n",
            "\n",
            "planet: Mars\n",
            "distance from the sun (million km): 227.9\n",
            "Diameter (thousand km) 6.79\n",
            "\n",
            "planet: Jupiter\n",
            "distance from the sun (million km): 778.6\n",
            "Diameter (thousand km) 139.8\n",
            "\n",
            "planet: Saturn\n",
            "distance from the sun (million km): 1433.5\n",
            "Diameter (thousand km) 116.5\n",
            "\n",
            "planet: Uranus\n",
            "distance from the sun (million km): 2872.5\n",
            "Diameter (thousand km) 50.7\n",
            "\n",
            "planet: Neptune\n",
            "distance from the sun (million km): 4495.1\n",
            "Diameter (thousand km) 49.2\n",
            "\n"
          ]
        }
      ]
    },
    {
      "cell_type": "code",
      "source": [
        "# Dictionary"
      ],
      "metadata": {
        "id": "rB7gTJl8nnrZ"
      },
      "execution_count": null,
      "outputs": []
    },
    {
      "cell_type": "code",
      "source": [
        "#Dictionary representing information about each planet"
      ],
      "metadata": {
        "id": "8oGm9NS23TuU"
      },
      "execution_count": null,
      "outputs": []
    },
    {
      "cell_type": "code",
      "source": [
        "planet_info = {\n",
        "    \"Mercury\": {\"distance_from_sun\":57.9, \"diameter\": 4.88},\n",
        "    \"Venus\": {\"distance_from_sun\": 108.2, \"diameter\": 12.1},\n",
        "    \"Earth\": {\"distance_from_sun\": 149.6, \"diameter\": 12.7},\n",
        "    \"Mars\": {\"distance_from_sun\": 227.9, \"diameter\": 6.79},\n",
        "    \"Jupiter\": {\"distance_from_sun\": 778.6, \"diameter\": 139.8},\n",
        "    \"Saturn\": {\"distance_from_sun\": 1433.5, \"diameter\": 116.5},\n",
        "    \"Uranus\": {\"distamcef_from_sun\": 2872.5, \"diameter\": 50.7},\n",
        "    \"Neptune\": {\"distance_from_sun\": 4495.1, \"diameter\": 49.2 }\n",
        "}"
      ],
      "metadata": {
        "id": "9vFi-tbg3T1c"
      },
      "execution_count": null,
      "outputs": []
    },
    {
      "cell_type": "code",
      "source": [],
      "metadata": {
        "id": "lWT5sw663UCZ"
      },
      "execution_count": null,
      "outputs": []
    },
    {
      "cell_type": "code",
      "source": [
        "def wish_happy_birthday():\n",
        "  print(\"Happy birthday to you!\")"
      ],
      "metadata": {
        "id": "-7zWlvqm3UIt"
      },
      "execution_count": null,
      "outputs": []
    },
    {
      "cell_type": "code",
      "source": [],
      "metadata": {
        "id": "EXxMeAHC3UOq"
      },
      "execution_count": null,
      "outputs": []
    },
    {
      "cell_type": "code",
      "source": [],
      "metadata": {
        "id": "ECgyTz21nnwU"
      },
      "execution_count": null,
      "outputs": []
    },
    {
      "cell_type": "code",
      "source": [],
      "metadata": {
        "id": "gok_3Sxdnn07"
      },
      "execution_count": null,
      "outputs": []
    },
    {
      "cell_type": "code",
      "source": [],
      "metadata": {
        "id": "84yY_Ragnn6A"
      },
      "execution_count": null,
      "outputs": []
    }
  ],
  "metadata": {
    "colab": {
      "provenance": [],
      "authorship_tag": "ABX9TyOMfkgx9eysi7QssSzxstIb",
      "include_colab_link": true
    },
    "kernelspec": {
      "display_name": "Python 3",
      "name": "python3"
    },
    "language_info": {
      "name": "python"
    }
  },
  "nbformat": 4,
  "nbformat_minor": 0
}