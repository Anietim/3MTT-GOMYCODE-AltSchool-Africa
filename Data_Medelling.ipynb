{
  "nbformat": 4,
  "nbformat_minor": 0,
  "metadata": {
    "colab": {
      "provenance": [],
      "authorship_tag": "ABX9TyMEmOpVi+4Z9HLJd+2JYJ2t",
      "include_colab_link": true
    },
    "kernelspec": {
      "name": "python3",
      "display_name": "Python 3"
    },
    "language_info": {
      "name": "python"
    }
  },
  "cells": [
    {
      "cell_type": "markdown",
      "metadata": {
        "id": "view-in-github",
        "colab_type": "text"
      },
      "source": [
        "<a href=\"https://colab.research.google.com/github/Anietim/3MTT-GOMYCODE-AltSchool-Africa/blob/main/Data_Medelling.ipynb\" target=\"_parent\"><img src=\"https://colab.research.google.com/assets/colab-badge.svg\" alt=\"Open In Colab\"/></a>"
      ]
    },
    {
      "cell_type": "code",
      "source": [
        "!pip install scikit-learn"
      ],
      "metadata": {
        "id": "4YwjktN6CqN1"
      },
      "execution_count": null,
      "outputs": []
    },
    {
      "cell_type": "code",
      "execution_count": 5,
      "metadata": {
        "id": "od0QKZn-_-_p"
      },
      "outputs": [],
      "source": [
        "# inporrt required libraries\n",
        "from sklearn.datasets import make_classification\n",
        "from matplotlib import pyplot as plt\n",
        "from sklearn.linear_model import LogisticRegression\n",
        "from sklearn.model_selection import train_test_split\n",
        "from sklearn.metrics import confusion_matrix\n",
        "import pandas as pd"
      ]
    },
    {
      "cell_type": "code",
      "source": [
        "!pip install scikit-learn"
      ],
      "metadata": {
        "id": "6Z26cHAizGof"
      },
      "execution_count": null,
      "outputs": []
    },
    {
      "cell_type": "code",
      "source": [
        "from sklearn.datasets import make_classification"
      ],
      "metadata": {
        "id": "EImzPhzbzaU_"
      },
      "execution_count": 4,
      "outputs": []
    },
    {
      "cell_type": "code",
      "source": [
        "x,y=make_classification(n_samples=100,\n",
        "                        n_features=1,\n",
        "                        n_classes=2,\n",
        "                        n_clusters_per_class=1,\n",
        "                        flip_y=0.03,\n",
        "                        n_informative=1,\n",
        "                        n_redundant=0,\n",
        "                        n_repeated=0)"
      ],
      "metadata": {
        "id": "UXoQP6NxBqhn"
      },
      "execution_count": 8,
      "outputs": []
    },
    {
      "cell_type": "code",
      "source": [
        "import matplotlib.pyplot as plt"
      ],
      "metadata": {
        "id": "AHGg9Ew011pC"
      },
      "execution_count": 10,
      "outputs": []
    },
    {
      "cell_type": "code",
      "source": [
        "plt.scatter(x,y,c=y)\n",
        "plt.title('Scatter plot for logistic regression')"
      ],
      "metadata": {
        "colab": {
          "base_uri": "https://localhost:8080/",
          "height": 470
        },
        "id": "z8HdWqR80VN-",
        "outputId": "f3957e75-8a8f-4c93-e14d-33de141919d4"
      },
      "execution_count": 11,
      "outputs": [
        {
          "output_type": "execute_result",
          "data": {
            "text/plain": [
              "Text(0.5, 1.0, 'Scatter plot for logistic regression')"
            ]
          },
          "metadata": {},
          "execution_count": 11
        },
        {
          "output_type": "display_data",
          "data": {
            "text/plain": [
              "<Figure size 640x480 with 1 Axes>"
            ],
            "image/png": "[encoded data removed]"
          },
          "metadata": {}
        }
      ]
    },
    {
      "cell_type": "code",
      "source": [
        "!pip install scikit-learn"
      ],
      "metadata": {
        "id": "oaMRcWF2dVHh"
      },
      "execution_count": null,
      "outputs": []
    },
    {
      "cell_type": "code",
      "source": [
        "from sklearn.model_selection import train_test_split"
      ],
      "metadata": {
        "id": "aQTO9tCQ90Fa"
      },
      "execution_count": 12,
      "outputs": []
    },
    {
      "cell_type": "code",
      "source": [
        "# Replace the following lines with your own data\n",
        "x = [1, 2, 3, 4, 5]\n",
        "y = [0, 1, 2, 3, 4]"
      ],
      "metadata": {
        "id": "EFq8YByU0VSe"
      },
      "execution_count": 13,
      "outputs": []
    },
    {
      "cell_type": "code",
      "source": [
        "x_train,x_text,y_train,y_test=train_test_split(x,y, random_state=1)"
      ],
      "metadata": {
        "id": "bjgxvkFwd0ri"
      },
      "execution_count": 14,
      "outputs": []
    },
    {
      "cell_type": "code",
      "source": [
        "from sklearn.linear_model import LogisticRegression"
      ],
      "metadata": {
        "id": "dpRt-LdF-e0a"
      },
      "execution_count": 18,
      "outputs": []
    },
    {
      "cell_type": "code",
      "source": [
        "import numpy as np"
      ],
      "metadata": {
        "id": "LcZa2lXueeYC"
      },
      "execution_count": 16,
      "outputs": []
    },
    {
      "cell_type": "code",
      "source": [
        "x_train = np.array(x_train).reshape(-1, 1)"
      ],
      "metadata": {
        "id": "A3KDg2LjekBt"
      },
      "execution_count": 17,
      "outputs": []
    },
    {
      "cell_type": "code",
      "source": [
        "log_reg.fit(x_train, y_train)"
      ],
      "metadata": {
        "colab": {
          "base_uri": "https://localhost:8080/",
          "height": 74
        },
        "id": "42lm3JG2epvY",
        "outputId": "f4bb9268-0722-41be-fb70-179f96d106e0"
      },
      "execution_count": 27,
      "outputs": [
        {
          "output_type": "execute_result",
          "data": {
            "text/plain": [
              "LogisticRegression()"
            ],
            "text/html": [
              "<style>#sk-container-id-3 {color: black;background-color: white;}#sk-container-id-3 pre{padding: 0;}#sk-container-id-3 div.sk-toggleable {background-color: white;}#sk-container-id-3 label.sk-toggleable__label {cursor: pointer;display: block;width: 100%;margin-bottom: 0;padding: 0.3em;box-sizing: border-box;text-align: center;}#sk-container-id-3 label.sk-toggleable__label-arrow:before {content: \"▸\";float: left;margin-right: 0.25em;color: #696969;}#sk-container-id-3 label.sk-toggleable__label-arrow:hover:before {color: black;}#sk-container-id-3 div.sk-estimator:hover label.sk-toggleable__label-arrow:before {color: black;}#sk-container-id-3 div.sk-toggleable__content {max-height: 0;max-width: 0;overflow: hidden;text-align: left;background-color: #f0f8ff;}#sk-container-id-3 div.sk-toggleable__content pre {margin: 0.2em;color: black;border-radius: 0.25em;background-color: #f0f8ff;}#sk-container-id-3 input.sk-toggleable__control:checked~div.sk-toggleable__content {max-height: 200px;max-width: 100%;overflow: auto;}#sk-container-id-3 input.sk-toggleable__control:checked~label.sk-toggleable__label-arrow:before {content: \"▾\";}#sk-container-id-3 div.sk-estimator input.sk-toggleable__control:checked~label.sk-toggleable__label {background-color: #d4ebff;}#sk-container-id-3 div.sk-label input.sk-toggleable__control:checked~label.sk-toggleable__label {background-color: #d4ebff;}#sk-container-id-3 input.sk-hidden--visually {border: 0;clip: rect(1px 1px 1px 1px);clip: rect(1px, 1px, 1px, 1px);height: 1px;margin: -1px;overflow: hidden;padding: 0;position: absolute;width: 1px;}#sk-container-id-3 div.sk-estimator {font-family: monospace;background-color: #f0f8ff;border: 1px dotted black;border-radius: 0.25em;box-sizing: border-box;margin-bottom: 0.5em;}#sk-container-id-3 div.sk-estimator:hover {background-color: #d4ebff;}#sk-container-id-3 div.sk-parallel-item::after {content: \"\";width: 100%;border-bottom: 1px solid gray;flex-grow: 1;}#sk-container-id-3 div.sk-label:hover label.sk-toggleable__label {background-color: #d4ebff;}#sk-container-id-3 div.sk-serial::before {content: \"\";position: absolute;border-left: 1px solid gray;box-sizing: border-box;top: 0;bottom: 0;left: 50%;z-index: 0;}#sk-container-id-3 div.sk-serial {display: flex;flex-direction: column;align-items: center;background-color: white;padding-right: 0.2em;padding-left: 0.2em;position: relative;}#sk-container-id-3 div.sk-item {position: relative;z-index: 1;}#sk-container-id-3 div.sk-parallel {display: flex;align-items: stretch;justify-content: center;background-color: white;position: relative;}#sk-container-id-3 div.sk-item::before, #sk-container-id-3 div.sk-parallel-item::before {content: \"\";position: absolute;border-left: 1px solid gray;box-sizing: border-box;top: 0;bottom: 0;left: 50%;z-index: -1;}#sk-container-id-3 div.sk-parallel-item {display: flex;flex-direction: column;z-index: 1;position: relative;background-color: white;}#sk-container-id-3 div.sk-parallel-item:first-child::after {align-self: flex-end;width: 50%;}#sk-container-id-3 div.sk-parallel-item:last-child::after {align-self: flex-start;width: 50%;}#sk-container-id-3 div.sk-parallel-item:only-child::after {width: 0;}#sk-container-id-3 div.sk-dashed-wrapped {border: 1px dashed gray;margin: 0 0.4em 0.5em 0.4em;box-sizing: border-box;padding-bottom: 0.4em;background-color: white;}#sk-container-id-3 div.sk-label label {font-family: monospace;font-weight: bold;display: inline-block;line-height: 1.2em;}#sk-container-id-3 div.sk-label-container {text-align: center;}#sk-container-id-3 div.sk-container {/* jupyter's `normalize.less` sets `[hidden] { display: none; }` but bootstrap.min.css set `[hidden] { display: none !important; }` so we also need the `!important` here to be able to override the default hidden behavior on the sphinx rendered scikit-learn.org. See: https://github.com/scikit-learn/scikit-learn/issues/21755 */display: inline-block !important;position: relative;}#sk-container-id-3 div.sk-text-repr-fallback {display: none;}</style><div id=\"sk-container-id-3\" class=\"sk-top-container\"><div class=\"sk-text-repr-fallback\"><pre>LogisticRegression()</pre><b>In a Jupyter environment, please rerun this cell to show the HTML representation or trust the notebook. <br />On GitHub, the HTML representation is unable to render, please try loading this page with nbviewer.org.</b></div><div class=\"sk-container\" hidden><div class=\"sk-item\"><div class=\"sk-estimator sk-toggleable\"><input class=\"sk-toggleable__control sk-hidden--visually\" id=\"sk-estimator-id-3\" type=\"checkbox\" checked><label for=\"sk-estimator-id-3\" class=\"sk-toggleable__label sk-toggleable__label-arrow\">LogisticRegression</label><div class=\"sk-toggleable__content\"><pre>LogisticRegression()</pre></div></div></div></div></div>"
            ]
          },
          "metadata": {},
          "execution_count": 27
        }
      ]
    },
    {
      "cell_type": "code",
      "source": [
        "from sklearn.linear_model import LogisticRegression"
      ],
      "metadata": {
        "id": "HkEq6R7Y96eJ"
      },
      "execution_count": 24,
      "outputs": []
    },
    {
      "cell_type": "code",
      "source": [
        "print(locals())"
      ],
      "metadata": {
        "colab": {
          "base_uri": "https://localhost:8080/"
        },
        "id": "y0deTzyRfmCI",
        "outputId": "07313647-9391-4e0a-8a8d-7435d4a702af"
      },
      "execution_count": 25,
      "outputs": [
        {
          "output_type": "stream",
          "name": "stdout",
          "text": [
            "{'__name__': '__main__', '__doc__': 'Automatically created module for IPython interactive environment', '__package__': None, '__loader__': None, '__spec__': None, '__builtin__': <module 'builtins' (built-in)>, '__builtins__': <module 'builtins' (built-in)>, '_ih': ['', 'y_pred=log_reg.predict(x_test)\\ny_pred  ', \"get_ipython().system('pip install scikit-learn')\", 'from sklearn.linear_model import LogisticRegression', 'log_reg = LogisticRegression()', 'log_reg.fit(x_train, y_train)', 'log_reg.fit(x_train, y_train)', 'log_reg=LogisticRegression()\\nlog_reg.fit(x_train, y_train)  ', 'from sklearn.model_selection import train_test_split', 'x_train,x_text,y_train,y_test=train_test_split(x,y, random_state=1)', \"get_ipython().system('pip install scikit-learn')\", 'x_train,x_text,y_train,y_test=train_test_split(x,y, random_state=1)', 'from sklearn.model_selection import train_test_split', '# Replace the following lines with your own data\\nx = [1, 2, 3, 4, 5]\\ny = [0, 1, 2, 3, 4]', 'x_train,x_text,y_train,y_test=train_test_split(x,y, random_state=1)', 'log_reg=LogisticRegression()\\nlog_reg.fit(x_train, y_train)  ', 'import numpy as np', 'x_train = np.array(x_train).reshape(-1, 1)', 'log_reg.fit(x_train, y_train)', 'y_pred=log_reg.predict(x_test)\\ny_pred  ', 'from sklearn.linear_model import LogisticRegression', 'log_reg = LogisticRegression()', 'log_reg.fit(x_train, y_train)', 'y_pred = log_reg.predict(x_test)', 'from sklearn.linear_model import LogisticRegression', 'print(locals())'], '_oh': {18: LogisticRegression(), 22: LogisticRegression()}, '_dh': ['/content'], 'In': ['', 'y_pred=log_reg.predict(x_test)\\ny_pred  ', \"get_ipython().system('pip install scikit-learn')\", 'from sklearn.linear_model import LogisticRegression', 'log_reg = LogisticRegression()', 'log_reg.fit(x_train, y_train)', 'log_reg.fit(x_train, y_train)', 'log_reg=LogisticRegression()\\nlog_reg.fit(x_train, y_train)  ', 'from sklearn.model_selection import train_test_split', 'x_train,x_text,y_train,y_test=train_test_split(x,y, random_state=1)', \"get_ipython().system('pip install scikit-learn')\", 'x_train,x_text,y_train,y_test=train_test_split(x,y, random_state=1)', 'from sklearn.model_selection import train_test_split', '# Replace the following lines with your own data\\nx = [1, 2, 3, 4, 5]\\ny = [0, 1, 2, 3, 4]', 'x_train,x_text,y_train,y_test=train_test_split(x,y, random_state=1)', 'log_reg=LogisticRegression()\\nlog_reg.fit(x_train, y_train)  ', 'import numpy as np', 'x_train = np.array(x_train).reshape(-1, 1)', 'log_reg.fit(x_train, y_train)', 'y_pred=log_reg.predict(x_test)\\ny_pred  ', 'from sklearn.linear_model import LogisticRegression', 'log_reg = LogisticRegression()', 'log_reg.fit(x_train, y_train)', 'y_pred = log_reg.predict(x_test)', 'from sklearn.linear_model import LogisticRegression', 'print(locals())'], 'Out': {18: LogisticRegression(), 22: LogisticRegression()}, 'get_ipython': <bound method InteractiveShell.get_ipython of <google.colab._shell.Shell object at 0x7833978ef8b0>>, 'exit': <IPython.core.autocall.ZMQExitAutocall object at 0x7833978efe50>, 'quit': <IPython.core.autocall.ZMQExitAutocall object at 0x7833978efe50>, '_': LogisticRegression(), '__': LogisticRegression(), '___': '', '_i': 'from sklearn.linear_model import LogisticRegression', '_ii': 'y_pred = log_reg.predict(x_test)', '_iii': 'log_reg.fit(x_train, y_train)', '_i1': 'y_pred=log_reg.predict(x_test)\\ny_pred  ', '_i2': '!pip install scikit-learn', '_exit_code': 0, '_i3': 'from sklearn.linear_model import LogisticRegression', 'LogisticRegression': <class 'sklearn.linear_model._logistic.LogisticRegression'>, '_i4': 'log_reg = LogisticRegression()', 'log_reg': LogisticRegression(), '_i5': 'log_reg.fit(x_train, y_train)', '_i6': 'log_reg.fit(x_train, y_train)', '_i7': 'log_reg=LogisticRegression()\\nlog_reg.fit(x_train, y_train)  ', '_i8': 'from sklearn.model_selection import train_test_split', 'train_test_split': <function train_test_split at 0x7833563957e0>, '_i9': 'x_train,x_text,y_train,y_test=train_test_split(x,y, random_state=1)', '_i10': '!pip install scikit-learn', '_i11': 'x_train,x_text,y_train,y_test=train_test_split(x,y, random_state=1)', '_i12': 'from sklearn.model_selection import train_test_split', '_i13': '# Replace the following lines with your own data\\nx = [1, 2, 3, 4, 5]\\ny = [0, 1, 2, 3, 4]', 'x': [1, 2, 3, 4, 5], 'y': [0, 1, 2, 3, 4], '_i14': 'x_train,x_text,y_train,y_test=train_test_split(x,y, random_state=1)', 'x_train': array([[5],\n",
            "       [1],\n",
            "       [4]]), 'x_text': [3, 2], 'y_train': [4, 0, 3], 'y_test': [2, 1], '_i15': 'log_reg=LogisticRegression()\\nlog_reg.fit(x_train, y_train)  ', '_i16': 'import numpy as np', 'np': <module 'numpy' from '/usr/local/lib/python3.10/dist-packages/numpy/__init__.py'>, '_i17': 'x_train = np.array(x_train).reshape(-1, 1)', '_i18': 'log_reg.fit(x_train, y_train)', '_18': LogisticRegression(), '_i19': 'y_pred=log_reg.predict(x_test)\\ny_pred  ', '_i20': 'from sklearn.linear_model import LogisticRegression', '_i21': 'log_reg = LogisticRegression()', '_i22': 'log_reg.fit(x_train, y_train)', '_22': LogisticRegression(), '_i23': 'y_pred = log_reg.predict(x_test)', '_i24': 'from sklearn.linear_model import LogisticRegression', '_i25': 'print(locals())'}\n"
          ]
        }
      ]
    },
    {
      "cell_type": "code",
      "source": [
        "print(log_reg.coef_)"
      ],
      "metadata": {
        "colab": {
          "base_uri": "https://localhost:8080/"
        },
        "id": "f7gfpNfTf-iv",
        "outputId": "c96535c9-8a5c-4e0e-db6e-cb35bc01a16f"
      },
      "execution_count": 29,
      "outputs": [
        {
          "output_type": "stream",
          "name": "stdout",
          "text": [
            "[[-0.70953565]\n",
            " [ 0.1346539 ]\n",
            " [ 0.57488175]]\n"
          ]
        }
      ]
    },
    {
      "cell_type": "code",
      "source": [
        "print(log_reg.intercept_)"
      ],
      "metadata": {
        "colab": {
          "base_uri": "https://localhost:8080/"
        },
        "id": "uCxBKwbof-en",
        "outputId": "7855bbd3-9cf9-44f5-f375-7cc209419c61"
      },
      "execution_count": 30,
      "outputs": [
        {
          "output_type": "stream",
          "name": "stdout",
          "text": [
            "[ 2.18079152 -0.16841251 -2.01237901]\n"
          ]
        }
      ]
    },
    {
      "cell_type": "code",
      "source": [],
      "metadata": {
        "id": "FI02LXd_h0zs"
      },
      "execution_count": null,
      "outputs": []
    }
  ]
}