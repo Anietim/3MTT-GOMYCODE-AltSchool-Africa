{
  "nbformat": 4,
  "nbformat_minor": 0,
  "metadata": {
    "colab": {
      "provenance": [],
      "name": "grades_analysis.ipynb",
      "authorship_tag": "ABX9TyMThkxkYEZC1gLpgcppfcvb",
      "include_colab_link": true
    },
    "kernelspec": {
      "name": "python3",
      "display_name": "Python 3"
    },
    "language_info": {
      "name": "python"
    }
  },
  "cells": [
    {
      "cell_type": "markdown",
      "metadata": {
        "id": "view-in-github",
        "colab_type": "text"
      },
      "source": [
        "<a href=\"https://colab.research.google.com/github/Anietim/3MTT-GOMYCODE-AltSchool-Africa/blob/main/grades_analysis.ipynb\" target=\"_parent\"><img src=\"https://colab.research.google.com/assets/colab-badge.svg\" alt=\"Open In Colab\"/></a>"
      ]
    },
    {
      "cell_type": "code",
      "execution_count": null,
      "metadata": {
        "id": "tt9QOwtKUwnM"
      },
      "outputs": [],
      "source": [
        "##ASSIGNMENT"
      ]
    },
    {
      "cell_type": "markdown",
      "source": [
        "Objective\n",
        "Create a numpy array called \"grades\" that contains the following grades: [85, 90, 88, 92, 95, 80, 75, 98, 89, 83]\n",
        "\n",
        "\n",
        "Instructions\n",
        "Create a new file called \"grades_analysis.py\"\n",
        "Import the numpy library and create the \"grades\" array as specified above.\n",
        "Use numpy functions to calculate the mean, median, and standard deviation of the grades.\n",
        "Use numpy function to find the maximum and minimum of the grades.\n",
        "Use numpy function to sort the grades in ascending order.\n",
        "Use numpy function to find the index of the highest grade in the array.\n",
        "Use numpy function to count the number of students who scored above 90.\n",
        "Use numpy function to calculate the percentage of students who scored above 90.\n",
        "Use numpy function to calculate the percentage of students who scored below 75.\n",
        "Use numpy function to extract all the grades above 90 and put them in a new array called \"high_performers\".\n",
        "Create a new array called \"passing_grades\" that contains all the grades above 75.\n",
        "Print the result of all the above steps.\n",
        "Note:\n",
        "\n",
        "to calculate percentage use numpy.mean(grades > 90) * 100\n",
        "to extract the grades above 90 use grades[grades > 90]\n",
        "to extract the grades above 75 use grades[grades > 75]\n",
        "You can use other numpy functions as well to analyze the data as you want. The above steps are just examples of what can be done."
      ],
      "metadata": {
        "id": "TcgP8QA9W9zZ"
      }
    },
    {
      "cell_type": "code",
      "source": [
        "#Solution"
      ],
      "metadata": {
        "id": "Zmlgs5PWWiHy"
      },
      "execution_count": null,
      "outputs": []
    },
    {
      "cell_type": "code",
      "source": [
        "import numpy as np\n",
        "\n",
        "#Create the grades array\n",
        "grades = np.array ([85, 90, 88, 92, 80, 75, 98, 89, 83])\n",
        "\n",
        "# Calculate mean, median and mode deviation\n",
        "mean_grade, median_grade, std_dev = np.mean(grades),  np.median(grades), np.std(grades)\n",
        "\n",
        "# Find maximum and minimum grades\n",
        "max_grade, min_grade = np.max(grades), np.min(grades)\n",
        "\n",
        "# Sort grades in ascending order\n",
        "sorted_grades = np.sort(grades)\n",
        "\n",
        "# Find index of the highest grades\n",
        "index_highest_grades = np.argmax(grades)\n",
        "\n",
        "# Count number of students who scored above 90\n",
        "above_90_count = np.sum(grades > 90)\n",
        "\n",
        "# Calculate percentage of students who scored above 90\n",
        "percentage_above_90 = (above_90_count / len(grades)) * 100\n",
        "\n",
        "# Calculate percentage of students who scored below 75\n",
        "percentage_below_75 = np.mean(grades < 75) * 100\n",
        "\n",
        "# Extract all grades above 90\n",
        "high_performers = grades[grades > 90]\n",
        "\n",
        "# Print results\n",
        "print(\"Mean grade:\", mean_grade)\n",
        "print(\"Median grade:\", median_grade)\n",
        "print(\"stabdard deviation of grade\", std_dev)\n",
        "print(\"Maximum grade:\", max_grade)\n",
        "print(\"minimum grade:\", min_grade)\n",
        "print(\"sorted grade:\", sorted_grades)\n",
        "print(\"Index of highest grade:\", index_highest_grades)\n",
        "print(\"Number of students above 90:\", above_90_count)\n",
        "print(\"Percentage of students who score above 90:\", percentage_above_90)\n",
        "print(\"Percentage of students below 90:\", percentage_below_75)\n",
        "print(\"High performers:\", high_performers)\n",
        "\n"
      ],
      "metadata": {
        "colab": {
          "base_uri": "https://localhost:8080/"
        },
        "id": "FAntHTsnWfIS",
        "outputId": "d1850fb4-99ae-471e-95aa-5b9913dae0b8"
      },
      "execution_count": null,
      "outputs": [
        {
          "output_type": "stream",
          "name": "stdout",
          "text": [
            "Mean grade: 86.66666666666667\n",
            "Median grade: 88.0\n",
            "stabdard deviation of grade 6.429100507328637\n",
            "Maximum grade: 98\n",
            "minimum grade: 75\n",
            "sorted grade: [75 80 83 85 88 89 90 92 98]\n",
            "Index of highest grade: 6\n",
            "Number of students above 90: 2\n",
            "Percentage of students who score above 90: 22.22222222222222\n",
            "Percentage of students below 90: 0.0\n",
            "High performers: [92 98]\n"
          ]
        }
      ]
    },
    {
      "cell_type": "code",
      "source": [],
      "metadata": {
        "id": "Qz7ZGdQ0mNtA"
      },
      "execution_count": null,
      "outputs": []
    }
  ]
}